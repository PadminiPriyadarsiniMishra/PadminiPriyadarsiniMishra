{
 "cells": [
  {
   "cell_type": "code",
   "execution_count": 1,
   "metadata": {
    "_cell_guid": "b1076dfc-b9ad-4769-8c92-a6c4dae69d19",
    "_uuid": "8f2839f25d086af736a60e9eeb907d3b93b6e0e5",
    "execution": {
     "iopub.execute_input": "2021-03-12T09:38:40.564522Z",
     "iopub.status.busy": "2021-03-12T09:38:40.563829Z",
     "iopub.status.idle": "2021-03-12T09:38:40.580664Z",
     "shell.execute_reply": "2021-03-12T09:38:40.579882Z"
    },
    "papermill": {
     "duration": 0.050982,
     "end_time": "2021-03-12T09:38:40.580930",
     "exception": false,
     "start_time": "2021-03-12T09:38:40.529948",
     "status": "completed"
    },
    "tags": []
   },
   "outputs": [],
   "source": [
    "import numpy as np # linear algebra\n",
    "import pandas as pd \n",
    "\n",
    "import os\n",
    "for dirname, _, filenames in os.walk('/kaggle/input'):\n",
    "    for filename in filenames:\n",
    "        print(os.path.join(dirname, filename))"
   ]
  },
  {
   "cell_type": "code",
   "execution_count": 2,
   "metadata": {
    "execution": {
     "iopub.execute_input": "2021-03-12T09:38:40.639007Z",
     "iopub.status.busy": "2021-03-12T09:38:40.638361Z",
     "iopub.status.idle": "2021-03-12T09:38:40.660519Z",
     "shell.execute_reply": "2021-03-12T09:38:40.659864Z"
    },
    "papermill": {
     "duration": 0.053442,
     "end_time": "2021-03-12T09:38:40.660660",
     "exception": false,
     "start_time": "2021-03-12T09:38:40.607218",
     "status": "completed"
    },
    "tags": []
   },
   "outputs": [],
   "source": [
    "data=pd.read_csv(\"heart.csv\")"
   ]
  },
  {
   "cell_type": "code",
   "execution_count": 3,
   "metadata": {
    "execution": {
     "iopub.execute_input": "2021-03-12T09:38:40.726841Z",
     "iopub.status.busy": "2021-03-12T09:38:40.726178Z",
     "iopub.status.idle": "2021-03-12T09:38:40.757337Z",
     "shell.execute_reply": "2021-03-12T09:38:40.757865Z"
    },
    "papermill": {
     "duration": 0.072108,
     "end_time": "2021-03-12T09:38:40.758062",
     "exception": false,
     "start_time": "2021-03-12T09:38:40.685954",
     "status": "completed"
    },
    "tags": []
   },
   "outputs": [
    {
     "data": {
      "text/html": [
       "<div>\n",
       "<style scoped>\n",
       "    .dataframe tbody tr th:only-of-type {\n",
       "        vertical-align: middle;\n",
       "    }\n",
       "\n",
       "    .dataframe tbody tr th {\n",
       "        vertical-align: top;\n",
       "    }\n",
       "\n",
       "    .dataframe thead th {\n",
       "        text-align: right;\n",
       "    }\n",
       "</style>\n",
       "<table border=\"1\" class=\"dataframe\">\n",
       "  <thead>\n",
       "    <tr style=\"text-align: right;\">\n",
       "      <th></th>\n",
       "      <th>age</th>\n",
       "      <th>sex</th>\n",
       "      <th>cp</th>\n",
       "      <th>trestbps</th>\n",
       "      <th>chol</th>\n",
       "      <th>fbs</th>\n",
       "      <th>restecg</th>\n",
       "      <th>thalach</th>\n",
       "      <th>exang</th>\n",
       "      <th>oldpeak</th>\n",
       "      <th>slope</th>\n",
       "      <th>ca</th>\n",
       "      <th>thal</th>\n",
       "      <th>target</th>\n",
       "    </tr>\n",
       "  </thead>\n",
       "  <tbody>\n",
       "    <tr>\n",
       "      <th>0</th>\n",
       "      <td>63</td>\n",
       "      <td>1</td>\n",
       "      <td>3</td>\n",
       "      <td>145</td>\n",
       "      <td>233</td>\n",
       "      <td>1</td>\n",
       "      <td>0</td>\n",
       "      <td>150</td>\n",
       "      <td>0</td>\n",
       "      <td>2.3</td>\n",
       "      <td>0</td>\n",
       "      <td>0</td>\n",
       "      <td>1</td>\n",
       "      <td>1</td>\n",
       "    </tr>\n",
       "    <tr>\n",
       "      <th>1</th>\n",
       "      <td>37</td>\n",
       "      <td>1</td>\n",
       "      <td>2</td>\n",
       "      <td>130</td>\n",
       "      <td>250</td>\n",
       "      <td>0</td>\n",
       "      <td>1</td>\n",
       "      <td>187</td>\n",
       "      <td>0</td>\n",
       "      <td>3.5</td>\n",
       "      <td>0</td>\n",
       "      <td>0</td>\n",
       "      <td>2</td>\n",
       "      <td>1</td>\n",
       "    </tr>\n",
       "    <tr>\n",
       "      <th>2</th>\n",
       "      <td>41</td>\n",
       "      <td>0</td>\n",
       "      <td>1</td>\n",
       "      <td>130</td>\n",
       "      <td>204</td>\n",
       "      <td>0</td>\n",
       "      <td>0</td>\n",
       "      <td>172</td>\n",
       "      <td>0</td>\n",
       "      <td>1.4</td>\n",
       "      <td>2</td>\n",
       "      <td>0</td>\n",
       "      <td>2</td>\n",
       "      <td>1</td>\n",
       "    </tr>\n",
       "    <tr>\n",
       "      <th>3</th>\n",
       "      <td>56</td>\n",
       "      <td>1</td>\n",
       "      <td>1</td>\n",
       "      <td>120</td>\n",
       "      <td>236</td>\n",
       "      <td>0</td>\n",
       "      <td>1</td>\n",
       "      <td>178</td>\n",
       "      <td>0</td>\n",
       "      <td>0.8</td>\n",
       "      <td>2</td>\n",
       "      <td>0</td>\n",
       "      <td>2</td>\n",
       "      <td>1</td>\n",
       "    </tr>\n",
       "    <tr>\n",
       "      <th>4</th>\n",
       "      <td>57</td>\n",
       "      <td>0</td>\n",
       "      <td>0</td>\n",
       "      <td>120</td>\n",
       "      <td>354</td>\n",
       "      <td>0</td>\n",
       "      <td>1</td>\n",
       "      <td>163</td>\n",
       "      <td>1</td>\n",
       "      <td>0.6</td>\n",
       "      <td>2</td>\n",
       "      <td>0</td>\n",
       "      <td>2</td>\n",
       "      <td>1</td>\n",
       "    </tr>\n",
       "  </tbody>\n",
       "</table>\n",
       "</div>"
      ],
      "text/plain": [
       "   age  sex  cp  trestbps  chol  fbs  restecg  thalach  exang  oldpeak  slope  \\\n",
       "0   63    1   3       145   233    1        0      150      0      2.3      0   \n",
       "1   37    1   2       130   250    0        1      187      0      3.5      0   \n",
       "2   41    0   1       130   204    0        0      172      0      1.4      2   \n",
       "3   56    1   1       120   236    0        1      178      0      0.8      2   \n",
       "4   57    0   0       120   354    0        1      163      1      0.6      2   \n",
       "\n",
       "   ca  thal  target  \n",
       "0   0     1       1  \n",
       "1   0     2       1  \n",
       "2   0     2       1  \n",
       "3   0     2       1  \n",
       "4   0     2       1  "
      ]
     },
     "execution_count": 3,
     "metadata": {},
     "output_type": "execute_result"
    }
   ],
   "source": [
    "data.head()"
   ]
  },
  {
   "cell_type": "code",
   "execution_count": 4,
   "metadata": {
    "execution": {
     "iopub.execute_input": "2021-03-12T09:38:40.830627Z",
     "iopub.status.busy": "2021-03-12T09:38:40.822037Z",
     "iopub.status.idle": "2021-03-12T09:38:40.837663Z",
     "shell.execute_reply": "2021-03-12T09:38:40.836939Z"
    },
    "papermill": {
     "duration": 0.052866,
     "end_time": "2021-03-12T09:38:40.837916",
     "exception": false,
     "start_time": "2021-03-12T09:38:40.785050",
     "status": "completed"
    },
    "tags": []
   },
   "outputs": [
    {
     "data": {
      "text/html": [
       "<div>\n",
       "<style scoped>\n",
       "    .dataframe tbody tr th:only-of-type {\n",
       "        vertical-align: middle;\n",
       "    }\n",
       "\n",
       "    .dataframe tbody tr th {\n",
       "        vertical-align: top;\n",
       "    }\n",
       "\n",
       "    .dataframe thead th {\n",
       "        text-align: right;\n",
       "    }\n",
       "</style>\n",
       "<table border=\"1\" class=\"dataframe\">\n",
       "  <thead>\n",
       "    <tr style=\"text-align: right;\">\n",
       "      <th></th>\n",
       "      <th>age</th>\n",
       "      <th>sex</th>\n",
       "      <th>cp</th>\n",
       "      <th>trestbps</th>\n",
       "      <th>chol</th>\n",
       "      <th>fbs</th>\n",
       "      <th>restecg</th>\n",
       "      <th>thalach</th>\n",
       "      <th>exang</th>\n",
       "      <th>oldpeak</th>\n",
       "      <th>slope</th>\n",
       "      <th>ca</th>\n",
       "      <th>thal</th>\n",
       "      <th>target</th>\n",
       "    </tr>\n",
       "  </thead>\n",
       "  <tbody>\n",
       "    <tr>\n",
       "      <th>298</th>\n",
       "      <td>57</td>\n",
       "      <td>0</td>\n",
       "      <td>0</td>\n",
       "      <td>140</td>\n",
       "      <td>241</td>\n",
       "      <td>0</td>\n",
       "      <td>1</td>\n",
       "      <td>123</td>\n",
       "      <td>1</td>\n",
       "      <td>0.2</td>\n",
       "      <td>1</td>\n",
       "      <td>0</td>\n",
       "      <td>3</td>\n",
       "      <td>0</td>\n",
       "    </tr>\n",
       "    <tr>\n",
       "      <th>299</th>\n",
       "      <td>45</td>\n",
       "      <td>1</td>\n",
       "      <td>3</td>\n",
       "      <td>110</td>\n",
       "      <td>264</td>\n",
       "      <td>0</td>\n",
       "      <td>1</td>\n",
       "      <td>132</td>\n",
       "      <td>0</td>\n",
       "      <td>1.2</td>\n",
       "      <td>1</td>\n",
       "      <td>0</td>\n",
       "      <td>3</td>\n",
       "      <td>0</td>\n",
       "    </tr>\n",
       "    <tr>\n",
       "      <th>300</th>\n",
       "      <td>68</td>\n",
       "      <td>1</td>\n",
       "      <td>0</td>\n",
       "      <td>144</td>\n",
       "      <td>193</td>\n",
       "      <td>1</td>\n",
       "      <td>1</td>\n",
       "      <td>141</td>\n",
       "      <td>0</td>\n",
       "      <td>3.4</td>\n",
       "      <td>1</td>\n",
       "      <td>2</td>\n",
       "      <td>3</td>\n",
       "      <td>0</td>\n",
       "    </tr>\n",
       "    <tr>\n",
       "      <th>301</th>\n",
       "      <td>57</td>\n",
       "      <td>1</td>\n",
       "      <td>0</td>\n",
       "      <td>130</td>\n",
       "      <td>131</td>\n",
       "      <td>0</td>\n",
       "      <td>1</td>\n",
       "      <td>115</td>\n",
       "      <td>1</td>\n",
       "      <td>1.2</td>\n",
       "      <td>1</td>\n",
       "      <td>1</td>\n",
       "      <td>3</td>\n",
       "      <td>0</td>\n",
       "    </tr>\n",
       "    <tr>\n",
       "      <th>302</th>\n",
       "      <td>57</td>\n",
       "      <td>0</td>\n",
       "      <td>1</td>\n",
       "      <td>130</td>\n",
       "      <td>236</td>\n",
       "      <td>0</td>\n",
       "      <td>0</td>\n",
       "      <td>174</td>\n",
       "      <td>0</td>\n",
       "      <td>0.0</td>\n",
       "      <td>1</td>\n",
       "      <td>1</td>\n",
       "      <td>2</td>\n",
       "      <td>0</td>\n",
       "    </tr>\n",
       "  </tbody>\n",
       "</table>\n",
       "</div>"
      ],
      "text/plain": [
       "     age  sex  cp  trestbps  chol  fbs  restecg  thalach  exang  oldpeak  \\\n",
       "298   57    0   0       140   241    0        1      123      1      0.2   \n",
       "299   45    1   3       110   264    0        1      132      0      1.2   \n",
       "300   68    1   0       144   193    1        1      141      0      3.4   \n",
       "301   57    1   0       130   131    0        1      115      1      1.2   \n",
       "302   57    0   1       130   236    0        0      174      0      0.0   \n",
       "\n",
       "     slope  ca  thal  target  \n",
       "298      1   0     3       0  \n",
       "299      1   0     3       0  \n",
       "300      1   2     3       0  \n",
       "301      1   1     3       0  \n",
       "302      1   1     2       0  "
      ]
     },
     "execution_count": 4,
     "metadata": {},
     "output_type": "execute_result"
    }
   ],
   "source": [
    "data.tail()"
   ]
  },
  {
   "cell_type": "code",
   "execution_count": 5,
   "metadata": {
    "execution": {
     "iopub.execute_input": "2021-03-12T09:38:40.930314Z",
     "iopub.status.busy": "2021-03-12T09:38:40.929163Z",
     "iopub.status.idle": "2021-03-12T09:38:40.934302Z",
     "shell.execute_reply": "2021-03-12T09:38:40.934945Z"
    },
    "papermill": {
     "duration": 0.05529,
     "end_time": "2021-03-12T09:38:40.935166",
     "exception": false,
     "start_time": "2021-03-12T09:38:40.879876",
     "status": "completed"
    },
    "tags": []
   },
   "outputs": [
    {
     "data": {
      "text/plain": [
       "array([0, 2, 1], dtype=int64)"
      ]
     },
     "execution_count": 5,
     "metadata": {},
     "output_type": "execute_result"
    }
   ],
   "source": [
    "data['slope'].unique()"
   ]
  },
  {
   "cell_type": "code",
   "execution_count": 6,
   "metadata": {
    "execution": {
     "iopub.execute_input": "2021-03-12T09:38:41.027190Z",
     "iopub.status.busy": "2021-03-12T09:38:41.026133Z",
     "iopub.status.idle": "2021-03-12T09:38:41.031357Z",
     "shell.execute_reply": "2021-03-12T09:38:41.032021Z"
    },
    "papermill": {
     "duration": 0.054162,
     "end_time": "2021-03-12T09:38:41.032236",
     "exception": false,
     "start_time": "2021-03-12T09:38:40.978074",
     "status": "completed"
    },
    "tags": []
   },
   "outputs": [
    {
     "data": {
      "text/plain": [
       "(303, 14)"
      ]
     },
     "execution_count": 6,
     "metadata": {},
     "output_type": "execute_result"
    }
   ],
   "source": [
    "data.shape"
   ]
  },
  {
   "cell_type": "code",
   "execution_count": 7,
   "metadata": {
    "execution": {
     "iopub.execute_input": "2021-03-12T09:38:41.130627Z",
     "iopub.status.busy": "2021-03-12T09:38:41.129955Z",
     "iopub.status.idle": "2021-03-12T09:38:41.137772Z",
     "shell.execute_reply": "2021-03-12T09:38:41.137231Z"
    },
    "papermill": {
     "duration": 0.061852,
     "end_time": "2021-03-12T09:38:41.137943",
     "exception": false,
     "start_time": "2021-03-12T09:38:41.076091",
     "status": "completed"
    },
    "tags": []
   },
   "outputs": [
    {
     "data": {
      "text/plain": [
       "age         0\n",
       "sex         0\n",
       "cp          0\n",
       "trestbps    0\n",
       "chol        0\n",
       "fbs         0\n",
       "restecg     0\n",
       "thalach     0\n",
       "exang       0\n",
       "oldpeak     0\n",
       "slope       0\n",
       "ca          0\n",
       "thal        0\n",
       "target      0\n",
       "dtype: int64"
      ]
     },
     "execution_count": 7,
     "metadata": {},
     "output_type": "execute_result"
    }
   ],
   "source": [
    "data.isnull().sum()"
   ]
  },
  {
   "cell_type": "markdown",
   "metadata": {
    "papermill": {
     "duration": 0.029232,
     "end_time": "2021-03-12T09:38:41.195246",
     "exception": false,
     "start_time": "2021-03-12T09:38:41.166014",
     "status": "completed"
    },
    "tags": []
   },
   "source": [
    "Let's analyse a bit"
   ]
  },
  {
   "cell_type": "code",
   "execution_count": 8,
   "metadata": {
    "execution": {
     "iopub.execute_input": "2021-03-12T09:38:41.258086Z",
     "iopub.status.busy": "2021-03-12T09:38:41.257384Z",
     "iopub.status.idle": "2021-03-12T09:38:42.541116Z",
     "shell.execute_reply": "2021-03-12T09:38:42.541635Z"
    },
    "papermill": {
     "duration": 1.318281,
     "end_time": "2021-03-12T09:38:42.541850",
     "exception": false,
     "start_time": "2021-03-12T09:38:41.223569",
     "status": "completed"
    },
    "tags": []
   },
   "outputs": [],
   "source": [
    "import seaborn as sns\n",
    "import matplotlib.pyplot as plt"
   ]
  },
  {
   "cell_type": "code",
   "execution_count": 9,
   "metadata": {
    "execution": {
     "iopub.execute_input": "2021-03-12T09:38:42.628178Z",
     "iopub.status.busy": "2021-03-12T09:38:42.614997Z",
     "iopub.status.idle": "2021-03-12T09:38:43.524121Z",
     "shell.execute_reply": "2021-03-12T09:38:43.523299Z"
    },
    "papermill": {
     "duration": 0.953704,
     "end_time": "2021-03-12T09:38:43.524297",
     "exception": false,
     "start_time": "2021-03-12T09:38:42.570593",
     "status": "completed"
    },
    "tags": []
   },
   "outputs": [
    {
     "data": {
      "text/plain": [
       "<seaborn.axisgrid.FacetGrid at 0x1e91988e8b0>"
      ]
     },
     "execution_count": 9,
     "metadata": {},
     "output_type": "execute_result"
    },
    {
     "data": {
      "image/png": "[encoded data removed]",
      "text/plain": [
       "<Figure size 864x216 with 4 Axes>"
      ]
     },
     "metadata": {
      "needs_background": "light"
     },
     "output_type": "display_data"
    }
   ],
   "source": [
    "g=sns.FacetGrid(data,col='cp')\n",
    "g.map(sns.histplot,\"cp\")"
   ]
  },
  {
   "cell_type": "markdown",
   "metadata": {
    "papermill": {
     "duration": 0.046085,
     "end_time": "2021-03-12T09:38:43.616040",
     "exception": false,
     "start_time": "2021-03-12T09:38:43.569955",
     "status": "completed"
    },
    "tags": []
   },
   "source": [
    "Age Groups with CP"
   ]
  },
  {
   "cell_type": "code",
   "execution_count": 10,
   "metadata": {
    "execution": {
     "iopub.execute_input": "2021-03-12T09:38:43.724088Z",
     "iopub.status.busy": "2021-03-12T09:38:43.722853Z",
     "iopub.status.idle": "2021-03-12T09:38:45.949408Z",
     "shell.execute_reply": "2021-03-12T09:38:45.948753Z"
    },
    "papermill": {
     "duration": 2.287057,
     "end_time": "2021-03-12T09:38:45.949561",
     "exception": false,
     "start_time": "2021-03-12T09:38:43.662504",
     "status": "completed"
    },
    "tags": []
   },
   "outputs": [
    {
     "data": {
      "text/plain": [
       "<AxesSubplot:xlabel='age', ylabel='cp'>"
      ]
     },
     "execution_count": 10,
     "metadata": {},
     "output_type": "execute_result"
    },
    {
     "data": {
      "image/png": "[encoded data removed]",
      "text/plain": [
       "<Figure size 720x720 with 1 Axes>"
      ]
     },
     "metadata": {
      "needs_background": "light"
     },
     "output_type": "display_data"
    }
   ],
   "source": [
    "plt.figure(figsize=(10,10))\n",
    "sns.barplot(x='age',y='cp',data=data)\n"
   ]
  },
  {
   "cell_type": "markdown",
   "metadata": {
    "papermill": {
     "duration": 0.030143,
     "end_time": "2021-03-12T09:38:46.011172",
     "exception": false,
     "start_time": "2021-03-12T09:38:45.981029",
     "status": "completed"
    },
    "tags": []
   },
   "source": [
    "Age with trestbps"
   ]
  },
  {
   "cell_type": "code",
   "execution_count": 11,
   "metadata": {
    "execution": {
     "iopub.execute_input": "2021-03-12T09:38:46.094642Z",
     "iopub.status.busy": "2021-03-12T09:38:46.086194Z",
     "iopub.status.idle": "2021-03-12T09:38:48.320097Z",
     "shell.execute_reply": "2021-03-12T09:38:48.319347Z"
    },
    "papermill": {
     "duration": 2.278337,
     "end_time": "2021-03-12T09:38:48.320244",
     "exception": false,
     "start_time": "2021-03-12T09:38:46.041907",
     "status": "completed"
    },
    "tags": []
   },
   "outputs": [
    {
     "data": {
      "text/plain": [
       "<AxesSubplot:xlabel='age', ylabel='trestbps'>"
      ]
     },
     "execution_count": 11,
     "metadata": {},
     "output_type": "execute_result"
    },
    {
     "data": {
      "image/png": "[encoded data removed]",
      "text/plain": [
       "<Figure size 720x360 with 1 Axes>"
      ]
     },
     "metadata": {
      "needs_background": "light"
     },
     "output_type": "display_data"
    }
   ],
   "source": [
    "plt.figure(figsize=(10,5))\n",
    "sns.barplot(x='age',y='trestbps',data=data)"
   ]
  },
  {
   "cell_type": "markdown",
   "metadata": {
    "papermill": {
     "duration": 0.034644,
     "end_time": "2021-03-12T09:38:48.391643",
     "exception": false,
     "start_time": "2021-03-12T09:38:48.356999",
     "status": "completed"
    },
    "tags": []
   },
   "source": [
    "Age with chol"
   ]
  },
  {
   "cell_type": "code",
   "execution_count": 12,
   "metadata": {
    "execution": {
     "iopub.execute_input": "2021-03-12T09:38:48.472048Z",
     "iopub.status.busy": "2021-03-12T09:38:48.468430Z",
     "iopub.status.idle": "2021-03-12T09:38:50.651736Z",
     "shell.execute_reply": "2021-03-12T09:38:50.650803Z"
    },
    "papermill": {
     "duration": 2.227327,
     "end_time": "2021-03-12T09:38:50.651965",
     "exception": false,
     "start_time": "2021-03-12T09:38:48.424638",
     "status": "completed"
    },
    "tags": []
   },
   "outputs": [
    {
     "data": {
      "text/plain": [
       "<AxesSubplot:xlabel='age', ylabel='chol'>"
      ]
     },
     "execution_count": 12,
     "metadata": {},
     "output_type": "execute_result"
    },
    {
     "data": {
      "image/png": "[encoded data removed]",
      "text/plain": [
       "<Figure size 720x360 with 1 Axes>"
      ]
     },
     "metadata": {
      "needs_background": "light"
     },
     "output_type": "display_data"
    }
   ],
   "source": [
    "plt.figure(figsize=(10,5))\n",
    "sns.barplot(x='age',y='chol',data=data)"
   ]
  },
  {
   "cell_type": "code",
   "execution_count": 13,
   "metadata": {
    "execution": {
     "iopub.execute_input": "2021-03-12T09:38:50.760917Z",
     "iopub.status.busy": "2021-03-12T09:38:50.759619Z",
     "iopub.status.idle": "2021-03-12T09:38:50.763244Z",
     "shell.execute_reply": "2021-03-12T09:38:50.763740Z"
    },
    "papermill": {
     "duration": 0.06058,
     "end_time": "2021-03-12T09:38:50.763963",
     "exception": false,
     "start_time": "2021-03-12T09:38:50.703383",
     "status": "completed"
    },
    "tags": []
   },
   "outputs": [],
   "source": [
    "# Matrix for data reading"
   ]
  },
  {
   "cell_type": "code",
   "execution_count": 14,
   "metadata": {
    "execution": {
     "iopub.execute_input": "2021-03-12T09:38:50.845004Z",
     "iopub.status.busy": "2021-03-12T09:38:50.842301Z",
     "iopub.status.idle": "2021-03-12T09:38:51.392377Z",
     "shell.execute_reply": "2021-03-12T09:38:51.391258Z"
    },
    "papermill": {
     "duration": 0.595286,
     "end_time": "2021-03-12T09:38:51.392545",
     "exception": false,
     "start_time": "2021-03-12T09:38:50.797259",
     "status": "completed"
    },
    "tags": []
   },
   "outputs": [
    {
     "data": {
      "text/plain": [
       "[Text(0.5, 0, 'age'),\n",
       " Text(1.5, 0, 'sex'),\n",
       " Text(2.5, 0, 'cp'),\n",
       " Text(3.5, 0, 'trestbps'),\n",
       " Text(4.5, 0, 'chol'),\n",
       " Text(5.5, 0, 'fbs'),\n",
       " Text(6.5, 0, 'restecg'),\n",
       " Text(7.5, 0, 'thalach'),\n",
       " Text(8.5, 0, 'exang'),\n",
       " Text(9.5, 0, 'oldpeak'),\n",
       " Text(10.5, 0, 'slope'),\n",
       " Text(11.5, 0, 'ca'),\n",
       " Text(12.5, 0, 'thal'),\n",
       " Text(13.5, 0, 'target')]"
      ]
     },
     "execution_count": 14,
     "metadata": {},
     "output_type": "execute_result"
    },
    {
     "data": {
      "image/png": "[encoded data removed]",
      "text/plain": [
       "<Figure size 1440x720 with 2 Axes>"
      ]
     },
     "metadata": {
      "needs_background": "light"
     },
     "output_type": "display_data"
    }
   ],
   "source": [
    "corr = data.corr()\n",
    "plt.figure(figsize=(20,10))\n",
    "ax = sns.heatmap(\n",
    "    corr, \n",
    "    vmin=-1, vmax=1, center=0,\n",
    "    cmap=sns.diverging_palette(20, 220, n=200),\n",
    "    square=True\n",
    ")\n",
    "ax.set_xticklabels(\n",
    "    ax.get_xticklabels(),\n",
    "    rotation=45,\n",
    "    horizontalalignment='right'\n",
    ")"
   ]
  },
  {
   "cell_type": "markdown",
   "metadata": {
    "papermill": {
     "duration": 0.060805,
     "end_time": "2021-03-12T09:38:51.518242",
     "exception": false,
     "start_time": "2021-03-12T09:38:51.457437",
     "status": "completed"
    },
    "tags": []
   },
   "source": [
    "Analyse the Corelation matrix and find out that the corelation of target value and fbs is 0 , so we can drop fbs"
   ]
  },
  {
   "cell_type": "markdown",
   "metadata": {
    "papermill": {
     "duration": 0.035615,
     "end_time": "2021-03-12T09:38:51.724296",
     "exception": false,
     "start_time": "2021-03-12T09:38:51.688681",
     "status": "completed"
    },
    "tags": []
   },
   "source": [
    "**Preprocessing**"
   ]
  },
  {
   "cell_type": "code",
   "execution_count": 32,
   "metadata": {
    "execution": {
     "iopub.execute_input": "2021-03-12T09:38:51.803097Z",
     "iopub.status.busy": "2021-03-12T09:38:51.802402Z",
     "iopub.status.idle": "2021-03-12T09:38:51.807126Z",
     "shell.execute_reply": "2021-03-12T09:38:51.806163Z"
    },
    "papermill": {
     "duration": 0.046523,
     "end_time": "2021-03-12T09:38:51.807311",
     "exception": false,
     "start_time": "2021-03-12T09:38:51.760788",
     "status": "completed"
    },
    "tags": []
   },
   "outputs": [],
   "source": [
    "new_data=data.drop(columns=['fbs'])"
   ]
  },
  {
   "cell_type": "code",
   "execution_count": 33,
   "metadata": {
    "execution": {
     "iopub.execute_input": "2021-03-12T09:38:51.932954Z",
     "iopub.status.busy": "2021-03-12T09:38:51.932114Z",
     "iopub.status.idle": "2021-03-12T09:38:51.947163Z",
     "shell.execute_reply": "2021-03-12T09:38:51.946354Z"
    },
    "papermill": {
     "duration": 0.083386,
     "end_time": "2021-03-12T09:38:51.947339",
     "exception": false,
     "start_time": "2021-03-12T09:38:51.863953",
     "status": "completed"
    },
    "tags": []
   },
   "outputs": [
    {
     "data": {
      "text/html": [
       "<div>\n",
       "<style scoped>\n",
       "    .dataframe tbody tr th:only-of-type {\n",
       "        vertical-align: middle;\n",
       "    }\n",
       "\n",
       "    .dataframe tbody tr th {\n",
       "        vertical-align: top;\n",
       "    }\n",
       "\n",
       "    .dataframe thead th {\n",
       "        text-align: right;\n",
       "    }\n",
       "</style>\n",
       "<table border=\"1\" class=\"dataframe\">\n",
       "  <thead>\n",
       "    <tr style=\"text-align: right;\">\n",
       "      <th></th>\n",
       "      <th>age</th>\n",
       "      <th>sex</th>\n",
       "      <th>cp</th>\n",
       "      <th>trestbps</th>\n",
       "      <th>chol</th>\n",
       "      <th>restecg</th>\n",
       "      <th>thalach</th>\n",
       "      <th>exang</th>\n",
       "      <th>oldpeak</th>\n",
       "      <th>slope</th>\n",
       "      <th>ca</th>\n",
       "      <th>thal</th>\n",
       "      <th>target</th>\n",
       "    </tr>\n",
       "  </thead>\n",
       "  <tbody>\n",
       "    <tr>\n",
       "      <th>0</th>\n",
       "      <td>63</td>\n",
       "      <td>1</td>\n",
       "      <td>3</td>\n",
       "      <td>145</td>\n",
       "      <td>233</td>\n",
       "      <td>0</td>\n",
       "      <td>150</td>\n",
       "      <td>0</td>\n",
       "      <td>2.3</td>\n",
       "      <td>0</td>\n",
       "      <td>0</td>\n",
       "      <td>1</td>\n",
       "      <td>1</td>\n",
       "    </tr>\n",
       "    <tr>\n",
       "      <th>1</th>\n",
       "      <td>37</td>\n",
       "      <td>1</td>\n",
       "      <td>2</td>\n",
       "      <td>130</td>\n",
       "      <td>250</td>\n",
       "      <td>1</td>\n",
       "      <td>187</td>\n",
       "      <td>0</td>\n",
       "      <td>3.5</td>\n",
       "      <td>0</td>\n",
       "      <td>0</td>\n",
       "      <td>2</td>\n",
       "      <td>1</td>\n",
       "    </tr>\n",
       "    <tr>\n",
       "      <th>2</th>\n",
       "      <td>41</td>\n",
       "      <td>0</td>\n",
       "      <td>1</td>\n",
       "      <td>130</td>\n",
       "      <td>204</td>\n",
       "      <td>0</td>\n",
       "      <td>172</td>\n",
       "      <td>0</td>\n",
       "      <td>1.4</td>\n",
       "      <td>2</td>\n",
       "      <td>0</td>\n",
       "      <td>2</td>\n",
       "      <td>1</td>\n",
       "    </tr>\n",
       "    <tr>\n",
       "      <th>3</th>\n",
       "      <td>56</td>\n",
       "      <td>1</td>\n",
       "      <td>1</td>\n",
       "      <td>120</td>\n",
       "      <td>236</td>\n",
       "      <td>1</td>\n",
       "      <td>178</td>\n",
       "      <td>0</td>\n",
       "      <td>0.8</td>\n",
       "      <td>2</td>\n",
       "      <td>0</td>\n",
       "      <td>2</td>\n",
       "      <td>1</td>\n",
       "    </tr>\n",
       "    <tr>\n",
       "      <th>4</th>\n",
       "      <td>57</td>\n",
       "      <td>0</td>\n",
       "      <td>0</td>\n",
       "      <td>120</td>\n",
       "      <td>354</td>\n",
       "      <td>1</td>\n",
       "      <td>163</td>\n",
       "      <td>1</td>\n",
       "      <td>0.6</td>\n",
       "      <td>2</td>\n",
       "      <td>0</td>\n",
       "      <td>2</td>\n",
       "      <td>1</td>\n",
       "    </tr>\n",
       "    <tr>\n",
       "      <th>...</th>\n",
       "      <td>...</td>\n",
       "      <td>...</td>\n",
       "      <td>...</td>\n",
       "      <td>...</td>\n",
       "      <td>...</td>\n",
       "      <td>...</td>\n",
       "      <td>...</td>\n",
       "      <td>...</td>\n",
       "      <td>...</td>\n",
       "      <td>...</td>\n",
       "      <td>...</td>\n",
       "      <td>...</td>\n",
       "      <td>...</td>\n",
       "    </tr>\n",
       "    <tr>\n",
       "      <th>298</th>\n",
       "      <td>57</td>\n",
       "      <td>0</td>\n",
       "      <td>0</td>\n",
       "      <td>140</td>\n",
       "      <td>241</td>\n",
       "      <td>1</td>\n",
       "      <td>123</td>\n",
       "      <td>1</td>\n",
       "      <td>0.2</td>\n",
       "      <td>1</td>\n",
       "      <td>0</td>\n",
       "      <td>3</td>\n",
       "      <td>0</td>\n",
       "    </tr>\n",
       "    <tr>\n",
       "      <th>299</th>\n",
       "      <td>45</td>\n",
       "      <td>1</td>\n",
       "      <td>3</td>\n",
       "      <td>110</td>\n",
       "      <td>264</td>\n",
       "      <td>1</td>\n",
       "      <td>132</td>\n",
       "      <td>0</td>\n",
       "      <td>1.2</td>\n",
       "      <td>1</td>\n",
       "      <td>0</td>\n",
       "      <td>3</td>\n",
       "      <td>0</td>\n",
       "    </tr>\n",
       "    <tr>\n",
       "      <th>300</th>\n",
       "      <td>68</td>\n",
       "      <td>1</td>\n",
       "      <td>0</td>\n",
       "      <td>144</td>\n",
       "      <td>193</td>\n",
       "      <td>1</td>\n",
       "      <td>141</td>\n",
       "      <td>0</td>\n",
       "      <td>3.4</td>\n",
       "      <td>1</td>\n",
       "      <td>2</td>\n",
       "      <td>3</td>\n",
       "      <td>0</td>\n",
       "    </tr>\n",
       "    <tr>\n",
       "      <th>301</th>\n",
       "      <td>57</td>\n",
       "      <td>1</td>\n",
       "      <td>0</td>\n",
       "      <td>130</td>\n",
       "      <td>131</td>\n",
       "      <td>1</td>\n",
       "      <td>115</td>\n",
       "      <td>1</td>\n",
       "      <td>1.2</td>\n",
       "      <td>1</td>\n",
       "      <td>1</td>\n",
       "      <td>3</td>\n",
       "      <td>0</td>\n",
       "    </tr>\n",
       "    <tr>\n",
       "      <th>302</th>\n",
       "      <td>57</td>\n",
       "      <td>0</td>\n",
       "      <td>1</td>\n",
       "      <td>130</td>\n",
       "      <td>236</td>\n",
       "      <td>0</td>\n",
       "      <td>174</td>\n",
       "      <td>0</td>\n",
       "      <td>0.0</td>\n",
       "      <td>1</td>\n",
       "      <td>1</td>\n",
       "      <td>2</td>\n",
       "      <td>0</td>\n",
       "    </tr>\n",
       "  </tbody>\n",
       "</table>\n",
       "<p>303 rows × 13 columns</p>\n",
       "</div>"
      ],
      "text/plain": [
       "     age  sex  cp  trestbps  chol  restecg  thalach  exang  oldpeak  slope  \\\n",
       "0     63    1   3       145   233        0      150      0      2.3      0   \n",
       "1     37    1   2       130   250        1      187      0      3.5      0   \n",
       "2     41    0   1       130   204        0      172      0      1.4      2   \n",
       "3     56    1   1       120   236        1      178      0      0.8      2   \n",
       "4     57    0   0       120   354        1      163      1      0.6      2   \n",
       "..   ...  ...  ..       ...   ...      ...      ...    ...      ...    ...   \n",
       "298   57    0   0       140   241        1      123      1      0.2      1   \n",
       "299   45    1   3       110   264        1      132      0      1.2      1   \n",
       "300   68    1   0       144   193        1      141      0      3.4      1   \n",
       "301   57    1   0       130   131        1      115      1      1.2      1   \n",
       "302   57    0   1       130   236        0      174      0      0.0      1   \n",
       "\n",
       "     ca  thal  target  \n",
       "0     0     1       1  \n",
       "1     0     2       1  \n",
       "2     0     2       1  \n",
       "3     0     2       1  \n",
       "4     0     2       1  \n",
       "..   ..   ...     ...  \n",
       "298   0     3       0  \n",
       "299   0     3       0  \n",
       "300   2     3       0  \n",
       "301   1     3       0  \n",
       "302   1     2       0  \n",
       "\n",
       "[303 rows x 13 columns]"
      ]
     },
     "execution_count": 33,
     "metadata": {},
     "output_type": "execute_result"
    }
   ],
   "source": [
    "new_data"
   ]
  },
  {
   "cell_type": "markdown",
   "metadata": {
    "papermill": {
     "duration": 0.056067,
     "end_time": "2021-03-12T09:38:52.059428",
     "exception": false,
     "start_time": "2021-03-12T09:38:52.003361",
     "status": "completed"
    },
    "tags": []
   },
   "source": [
    "**split the data into train and test**"
   ]
  },
  {
   "cell_type": "code",
   "execution_count": 18,
   "metadata": {
    "execution": {
     "iopub.execute_input": "2021-03-12T09:38:52.178069Z",
     "iopub.status.busy": "2021-03-12T09:38:52.177220Z",
     "iopub.status.idle": "2021-03-12T09:38:52.182272Z",
     "shell.execute_reply": "2021-03-12T09:38:52.181554Z"
    },
    "papermill": {
     "duration": 0.067978,
     "end_time": "2021-03-12T09:38:52.182451",
     "exception": false,
     "start_time": "2021-03-12T09:38:52.114473",
     "status": "completed"
    },
    "tags": []
   },
   "outputs": [],
   "source": [
    "X=new_data.drop(columns=['target'])\n",
    "Y=new_data['target']"
   ]
  },
  {
   "cell_type": "code",
   "execution_count": 19,
   "metadata": {
    "execution": {
     "iopub.execute_input": "2021-03-12T09:38:52.300077Z",
     "iopub.status.busy": "2021-03-12T09:38:52.299131Z",
     "iopub.status.idle": "2021-03-12T09:38:52.602724Z",
     "shell.execute_reply": "2021-03-12T09:38:52.603386Z"
    },
    "papermill": {
     "duration": 0.364553,
     "end_time": "2021-03-12T09:38:52.603617",
     "exception": false,
     "start_time": "2021-03-12T09:38:52.239064",
     "status": "completed"
    },
    "tags": []
   },
   "outputs": [],
   "source": [
    "from sklearn.model_selection import train_test_split\n",
    "x_train,x_test,y_train,y_test=train_test_split(X,Y,test_size=0.2,random_state=0)"
   ]
  },
  {
   "cell_type": "markdown",
   "metadata": {
    "papermill": {
     "duration": 0.055387,
     "end_time": "2021-03-12T09:38:52.714784",
     "exception": false,
     "start_time": "2021-03-12T09:38:52.659397",
     "status": "completed"
    },
    "tags": []
   },
   "source": [
    "Let's apply multiple models"
   ]
  },
  {
   "cell_type": "markdown",
   "metadata": {
    "papermill": {
     "duration": 0.055814,
     "end_time": "2021-03-12T09:38:52.827393",
     "exception": false,
     "start_time": "2021-03-12T09:38:52.771579",
     "status": "completed"
    },
    "tags": []
   },
   "source": [
    "1. SVC "
   ]
  },
  {
   "cell_type": "code",
   "execution_count": 20,
   "metadata": {
    "execution": {
     "iopub.execute_input": "2021-03-12T09:38:52.944494Z",
     "iopub.status.busy": "2021-03-12T09:38:52.943426Z",
     "iopub.status.idle": "2021-03-12T09:38:53.111236Z",
     "shell.execute_reply": "2021-03-12T09:38:53.110333Z"
    },
    "papermill": {
     "duration": 0.227326,
     "end_time": "2021-03-12T09:38:53.111414",
     "exception": false,
     "start_time": "2021-03-12T09:38:52.884088",
     "status": "completed"
    },
    "tags": []
   },
   "outputs": [
    {
     "data": {
      "text/plain": [
       "SVC()"
      ]
     },
     "execution_count": 20,
     "metadata": {},
     "output_type": "execute_result"
    }
   ],
   "source": [
    "from sklearn.svm import SVC\n",
    "classifier=SVC()\n",
    "classifier.fit(x_train,y_train)"
   ]
  },
  {
   "cell_type": "code",
   "execution_count": 21,
   "metadata": {
    "execution": {
     "iopub.execute_input": "2021-03-12T09:38:53.236557Z",
     "iopub.status.busy": "2021-03-12T09:38:53.235611Z",
     "iopub.status.idle": "2021-03-12T09:38:53.240750Z",
     "shell.execute_reply": "2021-03-12T09:38:53.239871Z"
    },
    "papermill": {
     "duration": 0.071653,
     "end_time": "2021-03-12T09:38:53.240945",
     "exception": false,
     "start_time": "2021-03-12T09:38:53.169292",
     "status": "completed"
    },
    "tags": []
   },
   "outputs": [],
   "source": [
    "Y_pred1=classifier.predict(x_test)"
   ]
  },
  {
   "cell_type": "code",
   "execution_count": 22,
   "metadata": {
    "execution": {
     "iopub.execute_input": "2021-03-12T09:38:53.365993Z",
     "iopub.status.busy": "2021-03-12T09:38:53.362479Z",
     "iopub.status.idle": "2021-03-12T09:38:53.372188Z",
     "shell.execute_reply": "2021-03-12T09:38:53.371609Z"
    },
    "papermill": {
     "duration": 0.073283,
     "end_time": "2021-03-12T09:38:53.372326",
     "exception": false,
     "start_time": "2021-03-12T09:38:53.299043",
     "status": "completed"
    },
    "tags": []
   },
   "outputs": [
    {
     "data": {
      "text/plain": [
       "0.7532467532467532"
      ]
     },
     "execution_count": 22,
     "metadata": {},
     "output_type": "execute_result"
    }
   ],
   "source": [
    "from sklearn.metrics import f1_score\n",
    "f1_score(y_test, Y_pred1)"
   ]
  },
  {
   "cell_type": "markdown",
   "metadata": {
    "papermill": {
     "duration": 0.037129,
     "end_time": "2021-03-12T09:38:53.447366",
     "exception": false,
     "start_time": "2021-03-12T09:38:53.410237",
     "status": "completed"
    },
    "tags": []
   },
   "source": [
    "2. Naive Bayes"
   ]
  },
  {
   "cell_type": "code",
   "execution_count": 23,
   "metadata": {
    "execution": {
     "iopub.execute_input": "2021-03-12T09:38:53.528950Z",
     "iopub.status.busy": "2021-03-12T09:38:53.528326Z",
     "iopub.status.idle": "2021-03-12T09:38:53.543493Z",
     "shell.execute_reply": "2021-03-12T09:38:53.542958Z"
    },
    "papermill": {
     "duration": 0.058966,
     "end_time": "2021-03-12T09:38:53.543624",
     "exception": false,
     "start_time": "2021-03-12T09:38:53.484658",
     "status": "completed"
    },
    "tags": []
   },
   "outputs": [
    {
     "data": {
      "text/plain": [
       "GaussianNB()"
      ]
     },
     "execution_count": 23,
     "metadata": {},
     "output_type": "execute_result"
    }
   ],
   "source": [
    "from sklearn.naive_bayes import GaussianNB\n",
    "classifier=GaussianNB()\n",
    "classifier.fit(x_train,y_train)"
   ]
  },
  {
   "cell_type": "code",
   "execution_count": 24,
   "metadata": {
    "execution": {
     "iopub.execute_input": "2021-03-12T09:38:53.629406Z",
     "iopub.status.busy": "2021-03-12T09:38:53.628781Z",
     "iopub.status.idle": "2021-03-12T09:38:53.633129Z",
     "shell.execute_reply": "2021-03-12T09:38:53.632618Z"
    },
    "papermill": {
     "duration": 0.051678,
     "end_time": "2021-03-12T09:38:53.633256",
     "exception": false,
     "start_time": "2021-03-12T09:38:53.581578",
     "status": "completed"
    },
    "tags": []
   },
   "outputs": [],
   "source": [
    "y_pred2=classifier.predict(x_test)"
   ]
  },
  {
   "cell_type": "code",
   "execution_count": 25,
   "metadata": {
    "execution": {
     "iopub.execute_input": "2021-03-12T09:38:53.716222Z",
     "iopub.status.busy": "2021-03-12T09:38:53.715522Z",
     "iopub.status.idle": "2021-03-12T09:38:53.724682Z",
     "shell.execute_reply": "2021-03-12T09:38:53.725360Z"
    },
    "papermill": {
     "duration": 0.053996,
     "end_time": "2021-03-12T09:38:53.725579",
     "exception": false,
     "start_time": "2021-03-12T09:38:53.671583",
     "status": "completed"
    },
    "tags": []
   },
   "outputs": [
    {
     "data": {
      "text/plain": [
       "0.8571428571428571"
      ]
     },
     "execution_count": 25,
     "metadata": {},
     "output_type": "execute_result"
    }
   ],
   "source": [
    "f1_score(y_test,y_pred2)"
   ]
  },
  {
   "cell_type": "markdown",
   "metadata": {
    "papermill": {
     "duration": 0.058116,
     "end_time": "2021-03-12T09:38:53.843563",
     "exception": false,
     "start_time": "2021-03-12T09:38:53.785447",
     "status": "completed"
    },
    "tags": []
   },
   "source": [
    "Random Forest"
   ]
  },
  {
   "cell_type": "code",
   "execution_count": 26,
   "metadata": {
    "execution": {
     "iopub.execute_input": "2021-03-12T09:38:53.968266Z",
     "iopub.status.busy": "2021-03-12T09:38:53.967363Z",
     "iopub.status.idle": "2021-03-12T09:38:54.373888Z",
     "shell.execute_reply": "2021-03-12T09:38:54.372254Z"
    },
    "papermill": {
     "duration": 0.471523,
     "end_time": "2021-03-12T09:38:54.374079",
     "exception": false,
     "start_time": "2021-03-12T09:38:53.902556",
     "status": "completed"
    },
    "tags": []
   },
   "outputs": [
    {
     "data": {
      "text/plain": [
       "RandomForestClassifier(criterion='entropy', n_estimators=10, random_state=0)"
      ]
     },
     "execution_count": 26,
     "metadata": {},
     "output_type": "execute_result"
    }
   ],
   "source": [
    "from sklearn.ensemble import RandomForestClassifier\n",
    "classifier=RandomForestClassifier(n_estimators=10,criterion='entropy',random_state=0)\n",
    "classifier.fit(x_train,y_train)"
   ]
  },
  {
   "cell_type": "code",
   "execution_count": 27,
   "metadata": {
    "execution": {
     "iopub.execute_input": "2021-03-12T09:38:54.466209Z",
     "iopub.status.busy": "2021-03-12T09:38:54.465291Z",
     "iopub.status.idle": "2021-03-12T09:38:54.468202Z",
     "shell.execute_reply": "2021-03-12T09:38:54.468687Z"
    },
    "papermill": {
     "duration": 0.054372,
     "end_time": "2021-03-12T09:38:54.468899",
     "exception": false,
     "start_time": "2021-03-12T09:38:54.414527",
     "status": "completed"
    },
    "tags": []
   },
   "outputs": [],
   "source": [
    "y_pred3=classifier.predict(x_test)"
   ]
  },
  {
   "cell_type": "code",
   "execution_count": 28,
   "metadata": {
    "execution": {
     "iopub.execute_input": "2021-03-12T09:38:54.556903Z",
     "iopub.status.busy": "2021-03-12T09:38:54.553213Z",
     "iopub.status.idle": "2021-03-12T09:38:54.563027Z",
     "shell.execute_reply": "2021-03-12T09:38:54.562308Z"
    },
    "papermill": {
     "duration": 0.053842,
     "end_time": "2021-03-12T09:38:54.563167",
     "exception": false,
     "start_time": "2021-03-12T09:38:54.509325",
     "status": "completed"
    },
    "tags": []
   },
   "outputs": [
    {
     "data": {
      "text/plain": [
       "0.8235294117647058"
      ]
     },
     "execution_count": 28,
     "metadata": {},
     "output_type": "execute_result"
    }
   ],
   "source": [
    "f1_score(y_test,y_pred3)"
   ]
  },
  {
   "cell_type": "markdown",
   "metadata": {
    "papermill": {
     "duration": 0.03904,
     "end_time": "2021-03-12T09:38:54.641622",
     "exception": false,
     "start_time": "2021-03-12T09:38:54.602582",
     "status": "completed"
    },
    "tags": []
   },
   "source": [
    "In my conclusion, Naive Bayes suits much better and provide good score rather than other famous algorithms in this specific case."
   ]
  },
  {
   "cell_type": "markdown",
   "metadata": {
    "papermill": {
     "duration": 0.039382,
     "end_time": "2021-03-12T09:38:54.720736",
     "exception": false,
     "start_time": "2021-03-12T09:38:54.681354",
     "status": "completed"
    },
    "tags": []
   },
   "source": [
    "Let's Create confussion matrix for naive bayes"
   ]
  },
  {
   "cell_type": "code",
   "execution_count": 29,
   "metadata": {
    "execution": {
     "iopub.execute_input": "2021-03-12T09:38:54.809061Z",
     "iopub.status.busy": "2021-03-12T09:38:54.808407Z",
     "iopub.status.idle": "2021-03-12T09:38:54.812952Z",
     "shell.execute_reply": "2021-03-12T09:38:54.812309Z"
    },
    "papermill": {
     "duration": 0.052897,
     "end_time": "2021-03-12T09:38:54.813106",
     "exception": false,
     "start_time": "2021-03-12T09:38:54.760209",
     "status": "completed"
    },
    "tags": []
   },
   "outputs": [],
   "source": [
    "from sklearn.metrics import confusion_matrix\n",
    "cm=confusion_matrix(y_test,y_pred2)\n"
   ]
  },
  {
   "cell_type": "code",
   "execution_count": 30,
   "metadata": {
    "execution": {
     "iopub.execute_input": "2021-03-12T09:38:54.901497Z",
     "iopub.status.busy": "2021-03-12T09:38:54.898805Z",
     "iopub.status.idle": "2021-03-12T09:38:54.907786Z",
     "shell.execute_reply": "2021-03-12T09:38:54.907035Z"
    },
    "papermill": {
     "duration": 0.053638,
     "end_time": "2021-03-12T09:38:54.907999",
     "exception": false,
     "start_time": "2021-03-12T09:38:54.854361",
     "status": "completed"
    },
    "tags": []
   },
   "outputs": [
    {
     "data": {
      "text/plain": [
       "array([[21,  6],\n",
       "       [ 4, 30]], dtype=int64)"
      ]
     },
     "execution_count": 30,
     "metadata": {},
     "output_type": "execute_result"
    }
   ],
   "source": [
    "cm"
   ]
  },
  {
   "cell_type": "code",
   "execution_count": 31,
   "metadata": {
    "execution": {
     "iopub.execute_input": "2021-03-12T09:38:55.037345Z",
     "iopub.status.busy": "2021-03-12T09:38:55.036434Z",
     "iopub.status.idle": "2021-03-12T09:38:55.228782Z",
     "shell.execute_reply": "2021-03-12T09:38:55.228235Z"
    },
    "papermill": {
     "duration": 0.258463,
     "end_time": "2021-03-12T09:38:55.228952",
     "exception": false,
     "start_time": "2021-03-12T09:38:54.970489",
     "status": "completed"
    },
    "tags": []
   },
   "outputs": [
    {
     "data": {
      "text/plain": [
       "Text(0.5, 1.0, 'Confusion Matrix')"
      ]
     },
     "execution_count": 31,
     "metadata": {},
     "output_type": "execute_result"
    },
    {
     "data": {
      "image/png": "[encoded data removed]",
      "text/plain": [
       "<Figure size 432x288 with 2 Axes>"
      ]
     },
     "metadata": {
      "needs_background": "light"
     },
     "output_type": "display_data"
    }
   ],
   "source": [
    "ax= plt.subplot()\n",
    "sns.heatmap(cm, annot=True, ax = ax) #annot=True to annotate cells\n",
    "\n",
    "# labels, title and ticks\n",
    "ax.set_xlabel('Predicted labels');ax.set_ylabel('True labels')\n",
    "ax.set_title('Confusion Matrix')"
   ]
  },
  {
   "cell_type": "code",
   "execution_count": null,
   "metadata": {},
   "outputs": [],
   "source": []
  }
 ],
 "metadata": {
  "kernelspec": {
   "display_name": "Python 3",
   "language": "python",
   "name": "python3"
  },
  "language_info": {
   "codemirror_mode": {
    "name": "ipython",
    "version": 3
   },
   "file_extension": ".py",
   "mimetype": "text/x-python",
   "name": "python",
   "nbconvert_exporter": "python",
   "pygments_lexer": "ipython3",
   "version": "3.8.8"
  },
  "papermill": {
   "default_parameters": {},
   "duration": 24.437009,
   "end_time": "2021-03-12T09:38:56.370181",
   "environment_variables": {},
   "exception": null,
   "input_path": "__notebook__.ipynb",
   "output_path": "__notebook__.ipynb",
   "parameters": {},
   "start_time": "2021-03-12T09:38:31.933172",
   "version": "2.2.2"
  }
 },
 "nbformat": 4,
 "nbformat_minor": 4
}
