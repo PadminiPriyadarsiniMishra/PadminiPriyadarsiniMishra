{
 "cells": [
  {
   "cell_type": "code",
   "execution_count": 1,
   "metadata": {
    "_cell_guid": "b1076dfc-b9ad-4769-8c92-a6c4dae69d19",
    "_uuid": "8f2839f25d086af736a60e9eeb907d3b93b6e0e5",
    "execution": {
     "iopub.execute_input": "2020-12-11T13:52:29.064284Z",
     "iopub.status.busy": "2020-12-11T13:52:29.063444Z",
     "iopub.status.idle": "2020-12-11T13:52:29.990255Z",
     "shell.execute_reply": "2020-12-11T13:52:29.989710Z"
    },
    "papermill": {
     "duration": 0.964844,
     "end_time": "2020-12-11T13:52:29.990399",
     "exception": false,
     "start_time": "2020-12-11T13:52:29.025555",
     "status": "completed"
    },
    "tags": []
   },
   "outputs": [],
   "source": [
    "# This Python 3 environment comes with many helpful analytics libraries installed\n",
    "# For example, here's several helpful packages to load\n",
    "from mpl_toolkits.mplot3d import Axes3D\n",
    "from sklearn.preprocessing import StandardScaler\n",
    "import numpy as np # linear algebra\n",
    "import pandas as pd # data processing, CSV file I/O (e.g. pd.read_csv)\n",
    "from mpl_toolkits.mplot3d import Axes3D\n",
    "import matplotlib.pyplot as plt\n",
    "import seaborn as sns\n",
    "%matplotlib inline\n",
    "\n",
    "import os\n",
    "for dirname, _, filenames in os.walk('/kaggle/input'):\n",
    "    for filename in filenames:\n",
    "        print(os.path.join(dirname, filename))"
   ]
  },
  {
   "cell_type": "markdown",
   "metadata": {
    "papermill": {
     "duration": 0.027515,
     "end_time": "2020-12-11T13:52:30.046290",
     "exception": false,
     "start_time": "2020-12-11T13:52:30.018775",
     "status": "completed"
    },
    "tags": []
   },
   "source": [
    "# Importing dataset\n",
    "# Importing Libraries"
   ]
  },
  {
   "cell_type": "code",
   "execution_count": 2,
   "metadata": {
    "_cell_guid": "79c7e3d0-c299-4dcb-8224-4455121ee9b0",
    "_uuid": "d629ff2d2480ee46fbb7e2d37f6b5fab8052498a",
    "execution": {
     "iopub.execute_input": "2020-12-11T13:52:30.106181Z",
     "iopub.status.busy": "2020-12-11T13:52:30.105558Z",
     "iopub.status.idle": "2020-12-11T13:52:30.131358Z",
     "shell.execute_reply": "2020-12-11T13:52:30.130771Z"
    },
    "papermill": {
     "duration": 0.057727,
     "end_time": "2020-12-11T13:52:30.131477",
     "exception": false,
     "start_time": "2020-12-11T13:52:30.073750",
     "status": "completed"
    },
    "tags": []
   },
   "outputs": [],
   "source": [
    "data = pd.read_csv('supermarket_sales - Sheet1.csv')\n",
    "data = data.drop(['Invoice ID'],axis=1)"
   ]
  },
  {
   "cell_type": "code",
   "execution_count": 3,
   "metadata": {
    "execution": {
     "iopub.execute_input": "2020-12-11T13:52:30.201539Z",
     "iopub.status.busy": "2020-12-11T13:52:30.200554Z",
     "iopub.status.idle": "2020-12-11T13:52:30.214397Z",
     "shell.execute_reply": "2020-12-11T13:52:30.213781Z"
    },
    "papermill": {
     "duration": 0.056535,
     "end_time": "2020-12-11T13:52:30.214512",
     "exception": false,
     "start_time": "2020-12-11T13:52:30.157977",
     "status": "completed"
    },
    "tags": []
   },
   "outputs": [
    {
     "data": {
      "text/html": [
       "<div>\n",
       "<style scoped>\n",
       "    .dataframe tbody tr th:only-of-type {\n",
       "        vertical-align: middle;\n",
       "    }\n",
       "\n",
       "    .dataframe tbody tr th {\n",
       "        vertical-align: top;\n",
       "    }\n",
       "\n",
       "    .dataframe thead th {\n",
       "        text-align: right;\n",
       "    }\n",
       "</style>\n",
       "<table border=\"1\" class=\"dataframe\">\n",
       "  <thead>\n",
       "    <tr style=\"text-align: right;\">\n",
       "      <th></th>\n",
       "      <th>Branch</th>\n",
       "      <th>City</th>\n",
       "      <th>Customer type</th>\n",
       "      <th>Gender</th>\n",
       "      <th>Product line</th>\n",
       "      <th>Unit price</th>\n",
       "      <th>Quantity</th>\n",
       "      <th>Tax 5%</th>\n",
       "      <th>Total</th>\n",
       "      <th>Date</th>\n",
       "      <th>Time</th>\n",
       "      <th>Payment</th>\n",
       "      <th>cogs</th>\n",
       "      <th>gross margin percentage</th>\n",
       "      <th>gross income</th>\n",
       "      <th>Rating</th>\n",
       "    </tr>\n",
       "  </thead>\n",
       "  <tbody>\n",
       "    <tr>\n",
       "      <th>0</th>\n",
       "      <td>A</td>\n",
       "      <td>Yangon</td>\n",
       "      <td>Member</td>\n",
       "      <td>Female</td>\n",
       "      <td>Health and beauty</td>\n",
       "      <td>74.69</td>\n",
       "      <td>7</td>\n",
       "      <td>26.1415</td>\n",
       "      <td>548.9715</td>\n",
       "      <td>1/5/2019</td>\n",
       "      <td>13:08</td>\n",
       "      <td>Ewallet</td>\n",
       "      <td>522.83</td>\n",
       "      <td>4.761905</td>\n",
       "      <td>26.1415</td>\n",
       "      <td>9.1</td>\n",
       "    </tr>\n",
       "    <tr>\n",
       "      <th>1</th>\n",
       "      <td>C</td>\n",
       "      <td>Naypyitaw</td>\n",
       "      <td>Normal</td>\n",
       "      <td>Female</td>\n",
       "      <td>Electronic accessories</td>\n",
       "      <td>15.28</td>\n",
       "      <td>5</td>\n",
       "      <td>3.8200</td>\n",
       "      <td>80.2200</td>\n",
       "      <td>3/8/2019</td>\n",
       "      <td>10:29</td>\n",
       "      <td>Cash</td>\n",
       "      <td>76.40</td>\n",
       "      <td>4.761905</td>\n",
       "      <td>3.8200</td>\n",
       "      <td>9.6</td>\n",
       "    </tr>\n",
       "    <tr>\n",
       "      <th>2</th>\n",
       "      <td>A</td>\n",
       "      <td>Yangon</td>\n",
       "      <td>Normal</td>\n",
       "      <td>Male</td>\n",
       "      <td>Home and lifestyle</td>\n",
       "      <td>46.33</td>\n",
       "      <td>7</td>\n",
       "      <td>16.2155</td>\n",
       "      <td>340.5255</td>\n",
       "      <td>3/3/2019</td>\n",
       "      <td>13:23</td>\n",
       "      <td>Credit card</td>\n",
       "      <td>324.31</td>\n",
       "      <td>4.761905</td>\n",
       "      <td>16.2155</td>\n",
       "      <td>7.4</td>\n",
       "    </tr>\n",
       "    <tr>\n",
       "      <th>3</th>\n",
       "      <td>A</td>\n",
       "      <td>Yangon</td>\n",
       "      <td>Member</td>\n",
       "      <td>Male</td>\n",
       "      <td>Health and beauty</td>\n",
       "      <td>58.22</td>\n",
       "      <td>8</td>\n",
       "      <td>23.2880</td>\n",
       "      <td>489.0480</td>\n",
       "      <td>1/27/2019</td>\n",
       "      <td>20:33</td>\n",
       "      <td>Ewallet</td>\n",
       "      <td>465.76</td>\n",
       "      <td>4.761905</td>\n",
       "      <td>23.2880</td>\n",
       "      <td>8.4</td>\n",
       "    </tr>\n",
       "    <tr>\n",
       "      <th>4</th>\n",
       "      <td>A</td>\n",
       "      <td>Yangon</td>\n",
       "      <td>Normal</td>\n",
       "      <td>Male</td>\n",
       "      <td>Sports and travel</td>\n",
       "      <td>86.31</td>\n",
       "      <td>7</td>\n",
       "      <td>30.2085</td>\n",
       "      <td>634.3785</td>\n",
       "      <td>2/8/2019</td>\n",
       "      <td>10:37</td>\n",
       "      <td>Ewallet</td>\n",
       "      <td>604.17</td>\n",
       "      <td>4.761905</td>\n",
       "      <td>30.2085</td>\n",
       "      <td>5.3</td>\n",
       "    </tr>\n",
       "  </tbody>\n",
       "</table>\n",
       "</div>"
      ],
      "text/plain": [
       "  Branch       City Customer type  Gender            Product line  Unit price  \\\n",
       "0      A     Yangon        Member  Female       Health and beauty       74.69   \n",
       "1      C  Naypyitaw        Normal  Female  Electronic accessories       15.28   \n",
       "2      A     Yangon        Normal    Male      Home and lifestyle       46.33   \n",
       "3      A     Yangon        Member    Male       Health and beauty       58.22   \n",
       "4      A     Yangon        Normal    Male       Sports and travel       86.31   \n",
       "\n",
       "   Quantity   Tax 5%     Total       Date   Time      Payment    cogs  \\\n",
       "0         7  26.1415  548.9715   1/5/2019  13:08      Ewallet  522.83   \n",
       "1         5   3.8200   80.2200   3/8/2019  10:29         Cash   76.40   \n",
       "2         7  16.2155  340.5255   3/3/2019  13:23  Credit card  324.31   \n",
       "3         8  23.2880  489.0480  1/27/2019  20:33      Ewallet  465.76   \n",
       "4         7  30.2085  634.3785   2/8/2019  10:37      Ewallet  604.17   \n",
       "\n",
       "   gross margin percentage  gross income  Rating  \n",
       "0                 4.761905       26.1415     9.1  \n",
       "1                 4.761905        3.8200     9.6  \n",
       "2                 4.761905       16.2155     7.4  \n",
       "3                 4.761905       23.2880     8.4  \n",
       "4                 4.761905       30.2085     5.3  "
      ]
     },
     "execution_count": 3,
     "metadata": {},
     "output_type": "execute_result"
    }
   ],
   "source": [
    "data.head()"
   ]
  },
  {
   "cell_type": "code",
   "execution_count": 4,
   "metadata": {
    "execution": {
     "iopub.execute_input": "2020-12-11T13:52:30.278619Z",
     "iopub.status.busy": "2020-12-11T13:52:30.277933Z",
     "iopub.status.idle": "2020-12-11T13:52:30.310687Z",
     "shell.execute_reply": "2020-12-11T13:52:30.310128Z"
    },
    "papermill": {
     "duration": 0.067899,
     "end_time": "2020-12-11T13:52:30.310797",
     "exception": false,
     "start_time": "2020-12-11T13:52:30.242898",
     "status": "completed"
    },
    "tags": []
   },
   "outputs": [
    {
     "data": {
      "text/html": [
       "<div>\n",
       "<style scoped>\n",
       "    .dataframe tbody tr th:only-of-type {\n",
       "        vertical-align: middle;\n",
       "    }\n",
       "\n",
       "    .dataframe tbody tr th {\n",
       "        vertical-align: top;\n",
       "    }\n",
       "\n",
       "    .dataframe thead th {\n",
       "        text-align: right;\n",
       "    }\n",
       "</style>\n",
       "<table border=\"1\" class=\"dataframe\">\n",
       "  <thead>\n",
       "    <tr style=\"text-align: right;\">\n",
       "      <th></th>\n",
       "      <th>Unit price</th>\n",
       "      <th>Quantity</th>\n",
       "      <th>Tax 5%</th>\n",
       "      <th>Total</th>\n",
       "      <th>cogs</th>\n",
       "      <th>gross margin percentage</th>\n",
       "      <th>gross income</th>\n",
       "      <th>Rating</th>\n",
       "    </tr>\n",
       "  </thead>\n",
       "  <tbody>\n",
       "    <tr>\n",
       "      <th>count</th>\n",
       "      <td>1000.000000</td>\n",
       "      <td>1000.000000</td>\n",
       "      <td>1000.000000</td>\n",
       "      <td>1000.000000</td>\n",
       "      <td>1000.00000</td>\n",
       "      <td>1.000000e+03</td>\n",
       "      <td>1000.000000</td>\n",
       "      <td>1000.00000</td>\n",
       "    </tr>\n",
       "    <tr>\n",
       "      <th>mean</th>\n",
       "      <td>55.672130</td>\n",
       "      <td>5.510000</td>\n",
       "      <td>15.379369</td>\n",
       "      <td>322.966749</td>\n",
       "      <td>307.58738</td>\n",
       "      <td>4.761905e+00</td>\n",
       "      <td>15.379369</td>\n",
       "      <td>6.97270</td>\n",
       "    </tr>\n",
       "    <tr>\n",
       "      <th>std</th>\n",
       "      <td>26.494628</td>\n",
       "      <td>2.923431</td>\n",
       "      <td>11.708825</td>\n",
       "      <td>245.885335</td>\n",
       "      <td>234.17651</td>\n",
       "      <td>6.131498e-14</td>\n",
       "      <td>11.708825</td>\n",
       "      <td>1.71858</td>\n",
       "    </tr>\n",
       "    <tr>\n",
       "      <th>min</th>\n",
       "      <td>10.080000</td>\n",
       "      <td>1.000000</td>\n",
       "      <td>0.508500</td>\n",
       "      <td>10.678500</td>\n",
       "      <td>10.17000</td>\n",
       "      <td>4.761905e+00</td>\n",
       "      <td>0.508500</td>\n",
       "      <td>4.00000</td>\n",
       "    </tr>\n",
       "    <tr>\n",
       "      <th>25%</th>\n",
       "      <td>32.875000</td>\n",
       "      <td>3.000000</td>\n",
       "      <td>5.924875</td>\n",
       "      <td>124.422375</td>\n",
       "      <td>118.49750</td>\n",
       "      <td>4.761905e+00</td>\n",
       "      <td>5.924875</td>\n",
       "      <td>5.50000</td>\n",
       "    </tr>\n",
       "    <tr>\n",
       "      <th>50%</th>\n",
       "      <td>55.230000</td>\n",
       "      <td>5.000000</td>\n",
       "      <td>12.088000</td>\n",
       "      <td>253.848000</td>\n",
       "      <td>241.76000</td>\n",
       "      <td>4.761905e+00</td>\n",
       "      <td>12.088000</td>\n",
       "      <td>7.00000</td>\n",
       "    </tr>\n",
       "    <tr>\n",
       "      <th>75%</th>\n",
       "      <td>77.935000</td>\n",
       "      <td>8.000000</td>\n",
       "      <td>22.445250</td>\n",
       "      <td>471.350250</td>\n",
       "      <td>448.90500</td>\n",
       "      <td>4.761905e+00</td>\n",
       "      <td>22.445250</td>\n",
       "      <td>8.50000</td>\n",
       "    </tr>\n",
       "    <tr>\n",
       "      <th>max</th>\n",
       "      <td>99.960000</td>\n",
       "      <td>10.000000</td>\n",
       "      <td>49.650000</td>\n",
       "      <td>1042.650000</td>\n",
       "      <td>993.00000</td>\n",
       "      <td>4.761905e+00</td>\n",
       "      <td>49.650000</td>\n",
       "      <td>10.00000</td>\n",
       "    </tr>\n",
       "  </tbody>\n",
       "</table>\n",
       "</div>"
      ],
      "text/plain": [
       "        Unit price     Quantity       Tax 5%        Total        cogs  \\\n",
       "count  1000.000000  1000.000000  1000.000000  1000.000000  1000.00000   \n",
       "mean     55.672130     5.510000    15.379369   322.966749   307.58738   \n",
       "std      26.494628     2.923431    11.708825   245.885335   234.17651   \n",
       "min      10.080000     1.000000     0.508500    10.678500    10.17000   \n",
       "25%      32.875000     3.000000     5.924875   124.422375   118.49750   \n",
       "50%      55.230000     5.000000    12.088000   253.848000   241.76000   \n",
       "75%      77.935000     8.000000    22.445250   471.350250   448.90500   \n",
       "max      99.960000    10.000000    49.650000  1042.650000   993.00000   \n",
       "\n",
       "       gross margin percentage  gross income      Rating  \n",
       "count             1.000000e+03   1000.000000  1000.00000  \n",
       "mean              4.761905e+00     15.379369     6.97270  \n",
       "std               6.131498e-14     11.708825     1.71858  \n",
       "min               4.761905e+00      0.508500     4.00000  \n",
       "25%               4.761905e+00      5.924875     5.50000  \n",
       "50%               4.761905e+00     12.088000     7.00000  \n",
       "75%               4.761905e+00     22.445250     8.50000  \n",
       "max               4.761905e+00     49.650000    10.00000  "
      ]
     },
     "execution_count": 4,
     "metadata": {},
     "output_type": "execute_result"
    }
   ],
   "source": [
    "data.describe()"
   ]
  },
  {
   "cell_type": "code",
   "execution_count": 5,
   "metadata": {
    "execution": {
     "iopub.execute_input": "2020-12-11T13:52:30.383247Z",
     "iopub.status.busy": "2020-12-11T13:52:30.382621Z",
     "iopub.status.idle": "2020-12-11T13:52:30.386233Z",
     "shell.execute_reply": "2020-12-11T13:52:30.385687Z"
    },
    "papermill": {
     "duration": 0.046214,
     "end_time": "2020-12-11T13:52:30.386347",
     "exception": false,
     "start_time": "2020-12-11T13:52:30.340133",
     "status": "completed"
    },
    "tags": []
   },
   "outputs": [
    {
     "name": "stdout",
     "output_type": "stream",
     "text": [
      "<class 'pandas.core.frame.DataFrame'>\n",
      "RangeIndex: 1000 entries, 0 to 999\n",
      "Data columns (total 16 columns):\n",
      " #   Column                   Non-Null Count  Dtype  \n",
      "---  ------                   --------------  -----  \n",
      " 0   Branch                   1000 non-null   object \n",
      " 1   City                     1000 non-null   object \n",
      " 2   Customer type            1000 non-null   object \n",
      " 3   Gender                   1000 non-null   object \n",
      " 4   Product line             1000 non-null   object \n",
      " 5   Unit price               1000 non-null   float64\n",
      " 6   Quantity                 1000 non-null   int64  \n",
      " 7   Tax 5%                   1000 non-null   float64\n",
      " 8   Total                    1000 non-null   float64\n",
      " 9   Date                     1000 non-null   object \n",
      " 10  Time                     1000 non-null   object \n",
      " 11  Payment                  1000 non-null   object \n",
      " 12  cogs                     1000 non-null   float64\n",
      " 13  gross margin percentage  1000 non-null   float64\n",
      " 14  gross income             1000 non-null   float64\n",
      " 15  Rating                   1000 non-null   float64\n",
      "dtypes: float64(7), int64(1), object(8)\n",
      "memory usage: 125.1+ KB\n"
     ]
    }
   ],
   "source": [
    "data.info()"
   ]
  },
  {
   "cell_type": "markdown",
   "metadata": {
    "papermill": {
     "duration": 0.028567,
     "end_time": "2020-12-11T13:52:30.444265",
     "exception": false,
     "start_time": "2020-12-11T13:52:30.415698",
     "status": "completed"
    },
    "tags": []
   },
   "source": [
    "There is no missing values in this dataset"
   ]
  },
  {
   "cell_type": "code",
   "execution_count": 6,
   "metadata": {
    "execution": {
     "iopub.execute_input": "2020-12-11T13:52:30.672996Z",
     "iopub.status.busy": "2020-12-11T13:52:30.672111Z",
     "iopub.status.idle": "2020-12-11T13:52:30.675933Z",
     "shell.execute_reply": "2020-12-11T13:52:30.676440Z"
    },
    "papermill": {
     "duration": 0.054338,
     "end_time": "2020-12-11T13:52:30.676599",
     "exception": false,
     "start_time": "2020-12-11T13:52:30.622261",
     "status": "completed"
    },
    "tags": []
   },
   "outputs": [
    {
     "data": {
      "text/html": [
       "<div>\n",
       "<style scoped>\n",
       "    .dataframe tbody tr th:only-of-type {\n",
       "        vertical-align: middle;\n",
       "    }\n",
       "\n",
       "    .dataframe tbody tr th {\n",
       "        vertical-align: top;\n",
       "    }\n",
       "\n",
       "    .dataframe thead th {\n",
       "        text-align: right;\n",
       "    }\n",
       "</style>\n",
       "<table border=\"1\" class=\"dataframe\">\n",
       "  <thead>\n",
       "    <tr style=\"text-align: right;\">\n",
       "      <th></th>\n",
       "      <th>Unit price</th>\n",
       "      <th>Quantity</th>\n",
       "      <th>Tax 5%</th>\n",
       "      <th>Total</th>\n",
       "      <th>cogs</th>\n",
       "      <th>gross margin percentage</th>\n",
       "      <th>gross income</th>\n",
       "      <th>Rating</th>\n",
       "    </tr>\n",
       "  </thead>\n",
       "  <tbody>\n",
       "    <tr>\n",
       "      <th>0</th>\n",
       "      <td>74.69</td>\n",
       "      <td>7</td>\n",
       "      <td>26.1415</td>\n",
       "      <td>548.9715</td>\n",
       "      <td>522.83</td>\n",
       "      <td>4.761905</td>\n",
       "      <td>26.1415</td>\n",
       "      <td>9.1</td>\n",
       "    </tr>\n",
       "    <tr>\n",
       "      <th>1</th>\n",
       "      <td>15.28</td>\n",
       "      <td>5</td>\n",
       "      <td>3.8200</td>\n",
       "      <td>80.2200</td>\n",
       "      <td>76.40</td>\n",
       "      <td>4.761905</td>\n",
       "      <td>3.8200</td>\n",
       "      <td>9.6</td>\n",
       "    </tr>\n",
       "    <tr>\n",
       "      <th>2</th>\n",
       "      <td>46.33</td>\n",
       "      <td>7</td>\n",
       "      <td>16.2155</td>\n",
       "      <td>340.5255</td>\n",
       "      <td>324.31</td>\n",
       "      <td>4.761905</td>\n",
       "      <td>16.2155</td>\n",
       "      <td>7.4</td>\n",
       "    </tr>\n",
       "    <tr>\n",
       "      <th>3</th>\n",
       "      <td>58.22</td>\n",
       "      <td>8</td>\n",
       "      <td>23.2880</td>\n",
       "      <td>489.0480</td>\n",
       "      <td>465.76</td>\n",
       "      <td>4.761905</td>\n",
       "      <td>23.2880</td>\n",
       "      <td>8.4</td>\n",
       "    </tr>\n",
       "    <tr>\n",
       "      <th>4</th>\n",
       "      <td>86.31</td>\n",
       "      <td>7</td>\n",
       "      <td>30.2085</td>\n",
       "      <td>634.3785</td>\n",
       "      <td>604.17</td>\n",
       "      <td>4.761905</td>\n",
       "      <td>30.2085</td>\n",
       "      <td>5.3</td>\n",
       "    </tr>\n",
       "    <tr>\n",
       "      <th>...</th>\n",
       "      <td>...</td>\n",
       "      <td>...</td>\n",
       "      <td>...</td>\n",
       "      <td>...</td>\n",
       "      <td>...</td>\n",
       "      <td>...</td>\n",
       "      <td>...</td>\n",
       "      <td>...</td>\n",
       "    </tr>\n",
       "    <tr>\n",
       "      <th>995</th>\n",
       "      <td>40.35</td>\n",
       "      <td>1</td>\n",
       "      <td>2.0175</td>\n",
       "      <td>42.3675</td>\n",
       "      <td>40.35</td>\n",
       "      <td>4.761905</td>\n",
       "      <td>2.0175</td>\n",
       "      <td>6.2</td>\n",
       "    </tr>\n",
       "    <tr>\n",
       "      <th>996</th>\n",
       "      <td>97.38</td>\n",
       "      <td>10</td>\n",
       "      <td>48.6900</td>\n",
       "      <td>1022.4900</td>\n",
       "      <td>973.80</td>\n",
       "      <td>4.761905</td>\n",
       "      <td>48.6900</td>\n",
       "      <td>4.4</td>\n",
       "    </tr>\n",
       "    <tr>\n",
       "      <th>997</th>\n",
       "      <td>31.84</td>\n",
       "      <td>1</td>\n",
       "      <td>1.5920</td>\n",
       "      <td>33.4320</td>\n",
       "      <td>31.84</td>\n",
       "      <td>4.761905</td>\n",
       "      <td>1.5920</td>\n",
       "      <td>7.7</td>\n",
       "    </tr>\n",
       "    <tr>\n",
       "      <th>998</th>\n",
       "      <td>65.82</td>\n",
       "      <td>1</td>\n",
       "      <td>3.2910</td>\n",
       "      <td>69.1110</td>\n",
       "      <td>65.82</td>\n",
       "      <td>4.761905</td>\n",
       "      <td>3.2910</td>\n",
       "      <td>4.1</td>\n",
       "    </tr>\n",
       "    <tr>\n",
       "      <th>999</th>\n",
       "      <td>88.34</td>\n",
       "      <td>7</td>\n",
       "      <td>30.9190</td>\n",
       "      <td>649.2990</td>\n",
       "      <td>618.38</td>\n",
       "      <td>4.761905</td>\n",
       "      <td>30.9190</td>\n",
       "      <td>6.6</td>\n",
       "    </tr>\n",
       "  </tbody>\n",
       "</table>\n",
       "<p>1000 rows × 8 columns</p>\n",
       "</div>"
      ],
      "text/plain": [
       "     Unit price  Quantity   Tax 5%      Total    cogs  \\\n",
       "0         74.69         7  26.1415   548.9715  522.83   \n",
       "1         15.28         5   3.8200    80.2200   76.40   \n",
       "2         46.33         7  16.2155   340.5255  324.31   \n",
       "3         58.22         8  23.2880   489.0480  465.76   \n",
       "4         86.31         7  30.2085   634.3785  604.17   \n",
       "..          ...       ...      ...        ...     ...   \n",
       "995       40.35         1   2.0175    42.3675   40.35   \n",
       "996       97.38        10  48.6900  1022.4900  973.80   \n",
       "997       31.84         1   1.5920    33.4320   31.84   \n",
       "998       65.82         1   3.2910    69.1110   65.82   \n",
       "999       88.34         7  30.9190   649.2990  618.38   \n",
       "\n",
       "     gross margin percentage  gross income  Rating  \n",
       "0                   4.761905       26.1415     9.1  \n",
       "1                   4.761905        3.8200     9.6  \n",
       "2                   4.761905       16.2155     7.4  \n",
       "3                   4.761905       23.2880     8.4  \n",
       "4                   4.761905       30.2085     5.3  \n",
       "..                       ...           ...     ...  \n",
       "995                 4.761905        2.0175     6.2  \n",
       "996                 4.761905       48.6900     4.4  \n",
       "997                 4.761905        1.5920     7.7  \n",
       "998                 4.761905        3.2910     4.1  \n",
       "999                 4.761905       30.9190     6.6  \n",
       "\n",
       "[1000 rows x 8 columns]"
      ]
     },
     "execution_count": 6,
     "metadata": {},
     "output_type": "execute_result"
    }
   ],
   "source": [
    "data[[i for i in data.columns if data[i].dtypes != 'object']]"
   ]
  },
  {
   "cell_type": "code",
   "execution_count": 7,
   "metadata": {
    "execution": {
     "iopub.execute_input": "2020-12-11T13:52:30.740161Z",
     "iopub.status.busy": "2020-12-11T13:52:30.739222Z",
     "iopub.status.idle": "2020-12-11T13:52:30.867293Z",
     "shell.execute_reply": "2020-12-11T13:52:30.866760Z"
    },
    "papermill": {
     "duration": 0.160689,
     "end_time": "2020-12-11T13:52:30.867421",
     "exception": false,
     "start_time": "2020-12-11T13:52:30.706732",
     "status": "completed"
    },
    "tags": []
   },
   "outputs": [
    {
     "data": {
      "text/html": [
       "<div>\n",
       "<style scoped>\n",
       "    .dataframe tbody tr th:only-of-type {\n",
       "        vertical-align: middle;\n",
       "    }\n",
       "\n",
       "    .dataframe tbody tr th {\n",
       "        vertical-align: top;\n",
       "    }\n",
       "\n",
       "    .dataframe thead th {\n",
       "        text-align: right;\n",
       "    }\n",
       "</style>\n",
       "<table border=\"1\" class=\"dataframe\">\n",
       "  <thead>\n",
       "    <tr style=\"text-align: right;\">\n",
       "      <th></th>\n",
       "      <th>Branch</th>\n",
       "      <th>City</th>\n",
       "      <th>Customer type</th>\n",
       "      <th>Gender</th>\n",
       "      <th>Product line</th>\n",
       "      <th>Date</th>\n",
       "      <th>Time</th>\n",
       "      <th>Payment</th>\n",
       "    </tr>\n",
       "  </thead>\n",
       "  <tbody>\n",
       "    <tr>\n",
       "      <th>0</th>\n",
       "      <td>A</td>\n",
       "      <td>Yangon</td>\n",
       "      <td>Member</td>\n",
       "      <td>Female</td>\n",
       "      <td>Health and beauty</td>\n",
       "      <td>1/5/2019</td>\n",
       "      <td>13:08</td>\n",
       "      <td>Ewallet</td>\n",
       "    </tr>\n",
       "    <tr>\n",
       "      <th>1</th>\n",
       "      <td>C</td>\n",
       "      <td>Naypyitaw</td>\n",
       "      <td>Normal</td>\n",
       "      <td>Female</td>\n",
       "      <td>Electronic accessories</td>\n",
       "      <td>3/8/2019</td>\n",
       "      <td>10:29</td>\n",
       "      <td>Cash</td>\n",
       "    </tr>\n",
       "    <tr>\n",
       "      <th>2</th>\n",
       "      <td>A</td>\n",
       "      <td>Yangon</td>\n",
       "      <td>Normal</td>\n",
       "      <td>Male</td>\n",
       "      <td>Home and lifestyle</td>\n",
       "      <td>3/3/2019</td>\n",
       "      <td>13:23</td>\n",
       "      <td>Credit card</td>\n",
       "    </tr>\n",
       "    <tr>\n",
       "      <th>3</th>\n",
       "      <td>A</td>\n",
       "      <td>Yangon</td>\n",
       "      <td>Member</td>\n",
       "      <td>Male</td>\n",
       "      <td>Health and beauty</td>\n",
       "      <td>1/27/2019</td>\n",
       "      <td>20:33</td>\n",
       "      <td>Ewallet</td>\n",
       "    </tr>\n",
       "    <tr>\n",
       "      <th>4</th>\n",
       "      <td>A</td>\n",
       "      <td>Yangon</td>\n",
       "      <td>Normal</td>\n",
       "      <td>Male</td>\n",
       "      <td>Sports and travel</td>\n",
       "      <td>2/8/2019</td>\n",
       "      <td>10:37</td>\n",
       "      <td>Ewallet</td>\n",
       "    </tr>\n",
       "    <tr>\n",
       "      <th>...</th>\n",
       "      <td>...</td>\n",
       "      <td>...</td>\n",
       "      <td>...</td>\n",
       "      <td>...</td>\n",
       "      <td>...</td>\n",
       "      <td>...</td>\n",
       "      <td>...</td>\n",
       "      <td>...</td>\n",
       "    </tr>\n",
       "    <tr>\n",
       "      <th>995</th>\n",
       "      <td>C</td>\n",
       "      <td>Naypyitaw</td>\n",
       "      <td>Normal</td>\n",
       "      <td>Male</td>\n",
       "      <td>Health and beauty</td>\n",
       "      <td>1/29/2019</td>\n",
       "      <td>13:46</td>\n",
       "      <td>Ewallet</td>\n",
       "    </tr>\n",
       "    <tr>\n",
       "      <th>996</th>\n",
       "      <td>B</td>\n",
       "      <td>Mandalay</td>\n",
       "      <td>Normal</td>\n",
       "      <td>Female</td>\n",
       "      <td>Home and lifestyle</td>\n",
       "      <td>3/2/2019</td>\n",
       "      <td>17:16</td>\n",
       "      <td>Ewallet</td>\n",
       "    </tr>\n",
       "    <tr>\n",
       "      <th>997</th>\n",
       "      <td>A</td>\n",
       "      <td>Yangon</td>\n",
       "      <td>Member</td>\n",
       "      <td>Male</td>\n",
       "      <td>Food and beverages</td>\n",
       "      <td>2/9/2019</td>\n",
       "      <td>13:22</td>\n",
       "      <td>Cash</td>\n",
       "    </tr>\n",
       "    <tr>\n",
       "      <th>998</th>\n",
       "      <td>A</td>\n",
       "      <td>Yangon</td>\n",
       "      <td>Normal</td>\n",
       "      <td>Male</td>\n",
       "      <td>Home and lifestyle</td>\n",
       "      <td>2/22/2019</td>\n",
       "      <td>15:33</td>\n",
       "      <td>Cash</td>\n",
       "    </tr>\n",
       "    <tr>\n",
       "      <th>999</th>\n",
       "      <td>A</td>\n",
       "      <td>Yangon</td>\n",
       "      <td>Member</td>\n",
       "      <td>Female</td>\n",
       "      <td>Fashion accessories</td>\n",
       "      <td>2/18/2019</td>\n",
       "      <td>13:28</td>\n",
       "      <td>Cash</td>\n",
       "    </tr>\n",
       "  </tbody>\n",
       "</table>\n",
       "<p>1000 rows × 8 columns</p>\n",
       "</div>"
      ],
      "text/plain": [
       "    Branch       City Customer type  Gender            Product line  \\\n",
       "0        A     Yangon        Member  Female       Health and beauty   \n",
       "1        C  Naypyitaw        Normal  Female  Electronic accessories   \n",
       "2        A     Yangon        Normal    Male      Home and lifestyle   \n",
       "3        A     Yangon        Member    Male       Health and beauty   \n",
       "4        A     Yangon        Normal    Male       Sports and travel   \n",
       "..     ...        ...           ...     ...                     ...   \n",
       "995      C  Naypyitaw        Normal    Male       Health and beauty   \n",
       "996      B   Mandalay        Normal  Female      Home and lifestyle   \n",
       "997      A     Yangon        Member    Male      Food and beverages   \n",
       "998      A     Yangon        Normal    Male      Home and lifestyle   \n",
       "999      A     Yangon        Member  Female     Fashion accessories   \n",
       "\n",
       "          Date   Time      Payment  \n",
       "0     1/5/2019  13:08      Ewallet  \n",
       "1     3/8/2019  10:29         Cash  \n",
       "2     3/3/2019  13:23  Credit card  \n",
       "3    1/27/2019  20:33      Ewallet  \n",
       "4     2/8/2019  10:37      Ewallet  \n",
       "..         ...    ...          ...  \n",
       "995  1/29/2019  13:46      Ewallet  \n",
       "996   3/2/2019  17:16      Ewallet  \n",
       "997   2/9/2019  13:22         Cash  \n",
       "998  2/22/2019  15:33         Cash  \n",
       "999  2/18/2019  13:28         Cash  \n",
       "\n",
       "[1000 rows x 8 columns]"
      ]
     },
     "execution_count": 7,
     "metadata": {},
     "output_type": "execute_result"
    }
   ],
   "source": [
    " data[[i for i in data.columns if data[i].dtypes == 'object']]"
   ]
  },
  {
   "cell_type": "code",
   "execution_count": 8,
   "metadata": {},
   "outputs": [],
   "source": [
    "data['DateTime'] = data['Date']+\" \"+ data['Time']\n",
    "data['DateTime'] = pd.to_datetime(data['DateTime'])"
   ]
  },
  {
   "cell_type": "markdown",
   "metadata": {
    "papermill": {
     "duration": 0.030445,
     "end_time": "2020-12-11T13:52:30.928886",
     "exception": false,
     "start_time": "2020-12-11T13:52:30.898441",
     "status": "completed"
    },
    "tags": []
   },
   "source": [
    "First I concat the two features that is date and time into DateTime and then convert that string to datetime"
   ]
  },
  {
   "cell_type": "markdown",
   "metadata": {
    "papermill": {
     "duration": 0.030767,
     "end_time": "2020-12-11T13:52:30.990269",
     "exception": false,
     "start_time": "2020-12-11T13:52:30.959502",
     "status": "completed"
    },
    "tags": []
   },
   "source": [
    "# Data Analysis and Data Cleaning"
   ]
  },
  {
   "cell_type": "code",
   "execution_count": 9,
   "metadata": {
    "execution": {
     "iopub.execute_input": "2020-12-11T13:52:31.060175Z",
     "iopub.status.busy": "2020-12-11T13:52:31.059645Z",
     "iopub.status.idle": "2020-12-11T13:52:31.063281Z",
     "shell.execute_reply": "2020-12-11T13:52:31.062776Z"
    },
    "papermill": {
     "duration": 0.041618,
     "end_time": "2020-12-11T13:52:31.063378",
     "exception": false,
     "start_time": "2020-12-11T13:52:31.021760",
     "status": "completed"
    },
    "tags": []
   },
   "outputs": [
    {
     "data": {
      "text/plain": [
       "A    340\n",
       "B    332\n",
       "C    328\n",
       "Name: Branch, dtype: int64"
      ]
     },
     "execution_count": 9,
     "metadata": {},
     "output_type": "execute_result"
    }
   ],
   "source": [
    "data['Branch'].value_counts()"
   ]
  },
  {
   "cell_type": "code",
   "execution_count": 10,
   "metadata": {
    "execution": {
     "iopub.execute_input": "2020-12-11T13:52:31.129395Z",
     "iopub.status.busy": "2020-12-11T13:52:31.128726Z",
     "iopub.status.idle": "2020-12-11T13:52:31.353746Z",
     "shell.execute_reply": "2020-12-11T13:52:31.352911Z"
    },
    "papermill": {
     "duration": 0.259035,
     "end_time": "2020-12-11T13:52:31.353864",
     "exception": false,
     "start_time": "2020-12-11T13:52:31.094829",
     "status": "completed"
    },
    "tags": []
   },
   "outputs": [
    {
     "data": {
      "text/plain": [
       "<seaborn.axisgrid.FacetGrid at 0x29fb12d62b0>"
      ]
     },
     "execution_count": 10,
     "metadata": {},
     "output_type": "execute_result"
    },
    {
     "data": {
      "image/png": "[encoded data removed]",
      "text/plain": [
       "<Figure size 360x360 with 1 Axes>"
      ]
     },
     "metadata": {
      "needs_background": "light"
     },
     "output_type": "display_data"
    }
   ],
   "source": [
    "sns.catplot(x=\"Branch\", kind=\"count\", palette=\"ch:.25\", data=data)"
   ]
  },
  {
   "cell_type": "markdown",
   "metadata": {},
   "source": [
    "# branch A has the highest no of branch."
   ]
  },
  {
   "cell_type": "code",
   "execution_count": 11,
   "metadata": {
    "execution": {
     "iopub.execute_input": "2020-12-11T13:52:31.427474Z",
     "iopub.status.busy": "2020-12-11T13:52:31.426854Z",
     "iopub.status.idle": "2020-12-11T13:52:31.429437Z",
     "shell.execute_reply": "2020-12-11T13:52:31.429949Z"
    },
    "papermill": {
     "duration": 0.043164,
     "end_time": "2020-12-11T13:52:31.430075",
     "exception": false,
     "start_time": "2020-12-11T13:52:31.386911",
     "status": "completed"
    },
    "tags": []
   },
   "outputs": [
    {
     "data": {
      "text/plain": [
       "Yangon       340\n",
       "Mandalay     332\n",
       "Naypyitaw    328\n",
       "Name: City, dtype: int64"
      ]
     },
     "execution_count": 11,
     "metadata": {},
     "output_type": "execute_result"
    }
   ],
   "source": [
    "data['City'].value_counts()#Yangon has the highest branch of supermarket"
   ]
  },
  {
   "cell_type": "markdown",
   "metadata": {
    "papermill": {
     "duration": 0.03258,
     "end_time": "2020-12-11T13:52:31.495606",
     "exception": false,
     "start_time": "2020-12-11T13:52:31.463026",
     "status": "completed"
    },
    "tags": []
   },
   "source": [
    "I will drop any of the feature (Branch or City) because both represent same I will drop for City bacuse it will easy for me to use Branch instead"
   ]
  },
  {
   "cell_type": "code",
   "execution_count": 12,
   "metadata": {
    "execution": {
     "iopub.execute_input": "2020-12-11T13:52:31.565587Z",
     "iopub.status.busy": "2020-12-11T13:52:31.564988Z",
     "iopub.status.idle": "2020-12-11T13:52:31.571267Z",
     "shell.execute_reply": "2020-12-11T13:52:31.571841Z"
    },
    "papermill": {
     "duration": 0.043623,
     "end_time": "2020-12-11T13:52:31.571967",
     "exception": false,
     "start_time": "2020-12-11T13:52:31.528344",
     "status": "completed"
    },
    "tags": []
   },
   "outputs": [],
   "source": [
    "data = data.drop(['City'],axis=1)\n",
    "data = data.drop(['Date','Time'],axis=1)"
   ]
  },
  {
   "cell_type": "code",
   "execution_count": 13,
   "metadata": {
    "execution": {
     "iopub.execute_input": "2020-12-11T13:52:31.639925Z",
     "iopub.status.busy": "2020-12-11T13:52:31.639352Z",
     "iopub.status.idle": "2020-12-11T13:52:31.646487Z",
     "shell.execute_reply": "2020-12-11T13:52:31.647008Z"
    },
    "papermill": {
     "duration": 0.04226,
     "end_time": "2020-12-11T13:52:31.647138",
     "exception": false,
     "start_time": "2020-12-11T13:52:31.604878",
     "status": "completed"
    },
    "tags": []
   },
   "outputs": [
    {
     "data": {
      "text/plain": [
       "Member    501\n",
       "Normal    499\n",
       "Name: Customer type, dtype: int64"
      ]
     },
     "execution_count": 13,
     "metadata": {},
     "output_type": "execute_result"
    }
   ],
   "source": [
    "data['Customer type'].value_counts()"
   ]
  },
  {
   "cell_type": "code",
   "execution_count": 14,
   "metadata": {
    "execution": {
     "iopub.execute_input": "2020-12-11T13:52:31.716665Z",
     "iopub.status.busy": "2020-12-11T13:52:31.716050Z",
     "iopub.status.idle": "2020-12-11T13:52:31.864221Z",
     "shell.execute_reply": "2020-12-11T13:52:31.863755Z"
    },
    "papermill": {
     "duration": 0.184055,
     "end_time": "2020-12-11T13:52:31.864334",
     "exception": false,
     "start_time": "2020-12-11T13:52:31.680279",
     "status": "completed"
    },
    "tags": []
   },
   "outputs": [
    {
     "data": {
      "text/plain": [
       "<seaborn.axisgrid.FacetGrid at 0x29fb6dbcb80>"
      ]
     },
     "execution_count": 14,
     "metadata": {},
     "output_type": "execute_result"
    },
    {
     "data": {
      "image/png": "[encoded data removed]",
      "text/plain": [
       "<Figure size 360x360 with 1 Axes>"
      ]
     },
     "metadata": {
      "needs_background": "light"
     },
     "output_type": "display_data"
    }
   ],
   "source": [
    "sns.catplot(x=\"Customer type\", kind=\"count\", palette=\"ch:.25\", data=data) #customer type member has the highest no of customers in it"
   ]
  },
  {
   "cell_type": "code",
   "execution_count": 15,
   "metadata": {
    "execution": {
     "iopub.execute_input": "2020-12-11T13:52:31.943673Z",
     "iopub.status.busy": "2020-12-11T13:52:31.943040Z",
     "iopub.status.idle": "2020-12-11T13:52:31.945744Z",
     "shell.execute_reply": "2020-12-11T13:52:31.946354Z"
    },
    "papermill": {
     "duration": 0.046467,
     "end_time": "2020-12-11T13:52:31.946500",
     "exception": false,
     "start_time": "2020-12-11T13:52:31.900033",
     "status": "completed"
    },
    "tags": []
   },
   "outputs": [
    {
     "data": {
      "text/plain": [
       "Female    501\n",
       "Male      499\n",
       "Name: Gender, dtype: int64"
      ]
     },
     "execution_count": 15,
     "metadata": {},
     "output_type": "execute_result"
    }
   ],
   "source": [
    "data['Gender'].value_counts()"
   ]
  },
  {
   "cell_type": "code",
   "execution_count": 16,
   "metadata": {
    "execution": {
     "iopub.execute_input": "2020-12-11T13:52:32.020317Z",
     "iopub.status.busy": "2020-12-11T13:52:32.019700Z",
     "iopub.status.idle": "2020-12-11T13:52:32.088545Z",
     "shell.execute_reply": "2020-12-11T13:52:32.089146Z"
    },
    "papermill": {
     "duration": 0.107328,
     "end_time": "2020-12-11T13:52:32.089281",
     "exception": false,
     "start_time": "2020-12-11T13:52:31.981953",
     "status": "completed"
    },
    "tags": []
   },
   "outputs": [
    {
     "data": {
      "image/png": "[encoded data removed]",
      "text/plain": [
       "<Figure size 720x576 with 1 Axes>"
      ]
     },
     "metadata": {},
     "output_type": "display_data"
    }
   ],
   "source": [
    "size = data['Customer type'].value_counts(sort=True)\n",
    "colors = ['Red','Yellow']\n",
    "labels = ['Member','Normal']\n",
    "explode = (0,0.1)\n",
    "plt.figure(figsize=(10 , 8))\n",
    "plt.pie(size,colors=colors,autopct='%1.1f%%',shadow=True,startangle = 270 ,explode= explode, labels=labels)\n",
    "\n",
    "plt.show()\n",
    "\n"
   ]
  },
  {
   "cell_type": "code",
   "execution_count": 17,
   "metadata": {
    "execution": {
     "iopub.execute_input": "2020-12-11T13:52:32.165903Z",
     "iopub.status.busy": "2020-12-11T13:52:32.165281Z",
     "iopub.status.idle": "2020-12-11T13:52:32.305495Z",
     "shell.execute_reply": "2020-12-11T13:52:32.306051Z"
    },
    "papermill": {
     "duration": 0.180085,
     "end_time": "2020-12-11T13:52:32.306196",
     "exception": false,
     "start_time": "2020-12-11T13:52:32.126111",
     "status": "completed"
    },
    "tags": []
   },
   "outputs": [
    {
     "data": {
      "text/plain": [
       "<AxesSubplot:xlabel='Customer type', ylabel='count'>"
      ]
     },
     "execution_count": 17,
     "metadata": {},
     "output_type": "execute_result"
    },
    {
     "data": {
      "image/png": "[encoded data removed]",
      "text/plain": [
       "<Figure size 576x288 with 1 Axes>"
      ]
     },
     "metadata": {
      "needs_background": "light"
     },
     "output_type": "display_data"
    }
   ],
   "source": [
    "plt.figure(figsize=(8,4))\n",
    "sns.countplot(x='Customer type', data= data, palette= \"rocket\",hue = \"Gender\")\n",
    "# in customer type member female are the highest in number\n",
    "#in customer type normal male are the highest in number."
   ]
  },
  {
   "cell_type": "code",
   "execution_count": 18,
   "metadata": {
    "execution": {
     "iopub.execute_input": "2020-12-11T13:52:32.386941Z",
     "iopub.status.busy": "2020-12-11T13:52:32.386262Z",
     "iopub.status.idle": "2020-12-11T13:52:32.390167Z",
     "shell.execute_reply": "2020-12-11T13:52:32.389720Z"
    },
    "papermill": {
     "duration": 0.047077,
     "end_time": "2020-12-11T13:52:32.390262",
     "exception": false,
     "start_time": "2020-12-11T13:52:32.343185",
     "status": "completed"
    },
    "tags": []
   },
   "outputs": [
    {
     "data": {
      "text/plain": [
       "Fashion accessories       178\n",
       "Food and beverages        174\n",
       "Electronic accessories    170\n",
       "Sports and travel         166\n",
       "Home and lifestyle        160\n",
       "Health and beauty         152\n",
       "Name: Product line, dtype: int64"
      ]
     },
     "execution_count": 18,
     "metadata": {},
     "output_type": "execute_result"
    }
   ],
   "source": [
    "data['Product line'].value_counts()\n",
    "#Fashion and accessories is more afford by the customers"
   ]
  },
  {
   "cell_type": "code",
   "execution_count": 19,
   "metadata": {
    "execution": {
     "iopub.execute_input": "2020-12-11T13:52:32.472357Z",
     "iopub.status.busy": "2020-12-11T13:52:32.471754Z",
     "iopub.status.idle": "2020-12-11T13:52:32.665791Z",
     "shell.execute_reply": "2020-12-11T13:52:32.665261Z"
    },
    "papermill": {
     "duration": 0.237403,
     "end_time": "2020-12-11T13:52:32.665902",
     "exception": false,
     "start_time": "2020-12-11T13:52:32.428499",
     "status": "completed"
    },
    "tags": []
   },
   "outputs": [
    {
     "data": {
      "text/plain": [
       "<AxesSubplot:xlabel='Product line', ylabel='count'>"
      ]
     },
     "execution_count": 19,
     "metadata": {},
     "output_type": "execute_result"
    },
    {
     "data": {
      "image/png": "[encoded data removed]",
      "text/plain": [
       "<Figure size 1152x576 with 1 Axes>"
      ]
     },
     "metadata": {
      "needs_background": "light"
     },
     "output_type": "display_data"
    }
   ],
   "source": [
    "plt.figure(figsize=(16,8))\n",
    "sns.countplot(x='Product line',data=data,palette='coolwarm',hue='Gender')"
   ]
  },
  {
   "cell_type": "markdown",
   "metadata": {
    "papermill": {
     "duration": 0.039463,
     "end_time": "2020-12-11T13:52:32.744488",
     "exception": false,
     "start_time": "2020-12-11T13:52:32.705025",
     "status": "completed"
    },
    "tags": []
   },
   "source": [
    "\n",
    "It is surprising to know that men are buying beauty and health product, women buying Fashion accessories products more."
   ]
  },
  {
   "cell_type": "code",
   "execution_count": 20,
   "metadata": {},
   "outputs": [
    {
     "data": {
      "text/plain": [
       "Ewallet        345\n",
       "Cash           344\n",
       "Credit card    311\n",
       "Name: Payment, dtype: int64"
      ]
     },
     "execution_count": 20,
     "metadata": {},
     "output_type": "execute_result"
    }
   ],
   "source": [
    "data['Payment'].value_counts() # ewallet is more preferred by customer"
   ]
  },
  {
   "cell_type": "code",
   "execution_count": 21,
   "metadata": {
    "execution": {
     "iopub.execute_input": "2020-12-11T13:52:32.833581Z",
     "iopub.status.busy": "2020-12-11T13:52:32.829891Z",
     "iopub.status.idle": "2020-12-11T13:52:33.024658Z",
     "shell.execute_reply": "2020-12-11T13:52:33.024086Z"
    },
    "papermill": {
     "duration": 0.241825,
     "end_time": "2020-12-11T13:52:33.024770",
     "exception": false,
     "start_time": "2020-12-11T13:52:32.782945",
     "status": "completed"
    },
    "tags": []
   },
   "outputs": [
    {
     "data": {
      "text/plain": [
       "<AxesSubplot:xlabel='Payment', ylabel='count'>"
      ]
     },
     "execution_count": 21,
     "metadata": {},
     "output_type": "execute_result"
    },
    {
     "data": {
      "image/png": "[encoded data removed]",
      "text/plain": [
       "<Figure size 432x288 with 1 Axes>"
      ]
     },
     "metadata": {
      "needs_background": "light"
     },
     "output_type": "display_data"
    }
   ],
   "source": [
    "sns.countplot(x=data['Payment'],data=data,palette='BuPu')"
   ]
  },
  {
   "cell_type": "code",
   "execution_count": 22,
   "metadata": {
    "execution": {
     "iopub.execute_input": "2020-12-11T13:52:33.115647Z",
     "iopub.status.busy": "2020-12-11T13:52:33.113607Z",
     "iopub.status.idle": "2020-12-11T13:52:33.340085Z",
     "shell.execute_reply": "2020-12-11T13:52:33.339423Z"
    },
    "papermill": {
     "duration": 0.272858,
     "end_time": "2020-12-11T13:52:33.340206",
     "exception": false,
     "start_time": "2020-12-11T13:52:33.067348",
     "status": "completed"
    },
    "tags": []
   },
   "outputs": [
    {
     "data": {
      "text/plain": [
       "<AxesSubplot:xlabel='Product line', ylabel='count'>"
      ]
     },
     "execution_count": 22,
     "metadata": {},
     "output_type": "execute_result"
    },
    {
     "data": {
      "image/png": "[encoded data removed]",
      "text/plain": [
       "<Figure size 1440x576 with 1 Axes>"
      ]
     },
     "metadata": {
      "needs_background": "light"
     },
     "output_type": "display_data"
    }
   ],
   "source": [
    "plt.figure(figsize=(20,8))\n",
    "sns.countplot(x='Product line',data=data,palette='ocean',hue='Branch')"
   ]
  },
  {
   "cell_type": "markdown",
   "metadata": {},
   "source": [
    " In branch A, Home and lifestyle is mostly preferred by customer.\n",
    " In branch B, Food and beverages are more preferred by customer.\n",
    " In branch C,sports and travel and fachion accessories are more preferred. \n",
    " "
   ]
  },
  {
   "cell_type": "code",
   "execution_count": 23,
   "metadata": {
    "execution": {
     "iopub.execute_input": "2020-12-11T13:52:33.960769Z",
     "iopub.status.busy": "2020-12-11T13:52:33.959723Z",
     "iopub.status.idle": "2020-12-11T13:52:33.967460Z",
     "shell.execute_reply": "2020-12-11T13:52:33.967945Z"
    },
    "papermill": {
     "duration": 0.063829,
     "end_time": "2020-12-11T13:52:33.968073",
     "exception": false,
     "start_time": "2020-12-11T13:52:33.904244",
     "status": "completed"
    },
    "tags": []
   },
   "outputs": [],
   "source": [
    "# categorical data\n",
    "[i for i in data.columns if data[i].dtype == 'object']\n",
    "data = pd.get_dummies(data,drop_first=True)"
   ]
  },
  {
   "cell_type": "code",
   "execution_count": 24,
   "metadata": {
    "execution": {
     "iopub.execute_input": "2020-12-11T13:52:34.068217Z",
     "iopub.status.busy": "2020-12-11T13:52:34.067365Z",
     "iopub.status.idle": "2020-12-11T13:52:34.070324Z",
     "shell.execute_reply": "2020-12-11T13:52:34.071017Z"
    },
    "papermill": {
     "duration": 0.059581,
     "end_time": "2020-12-11T13:52:34.071205",
     "exception": false,
     "start_time": "2020-12-11T13:52:34.011624",
     "status": "completed"
    },
    "tags": []
   },
   "outputs": [],
   "source": [
    "#Feature Engineering \n",
    "\n",
    "data['TotalbyQuantity'] = data['Total'] / data['Quantity']\n"
   ]
  },
  {
   "cell_type": "code",
   "execution_count": 25,
   "metadata": {
    "execution": {
     "iopub.execute_input": "2020-12-11T13:52:34.180822Z",
     "iopub.status.busy": "2020-12-11T13:52:34.179919Z",
     "iopub.status.idle": "2020-12-11T13:52:34.257403Z",
     "shell.execute_reply": "2020-12-11T13:52:34.257896Z"
    },
    "papermill": {
     "duration": 0.135991,
     "end_time": "2020-12-11T13:52:34.258026",
     "exception": false,
     "start_time": "2020-12-11T13:52:34.122035",
     "status": "completed"
    },
    "tags": []
   },
   "outputs": [
    {
     "data": {
      "text/html": [
       "<div>\n",
       "<style scoped>\n",
       "    .dataframe tbody tr th:only-of-type {\n",
       "        vertical-align: middle;\n",
       "    }\n",
       "\n",
       "    .dataframe tbody tr th {\n",
       "        vertical-align: top;\n",
       "    }\n",
       "\n",
       "    .dataframe thead th {\n",
       "        text-align: right;\n",
       "    }\n",
       "</style>\n",
       "<table border=\"1\" class=\"dataframe\">\n",
       "  <thead>\n",
       "    <tr style=\"text-align: right;\">\n",
       "      <th></th>\n",
       "      <th>Unit price</th>\n",
       "      <th>Quantity</th>\n",
       "      <th>Tax 5%</th>\n",
       "      <th>Total</th>\n",
       "      <th>cogs</th>\n",
       "      <th>gross margin percentage</th>\n",
       "      <th>gross income</th>\n",
       "      <th>Rating</th>\n",
       "      <th>TotalbyQuantity</th>\n",
       "    </tr>\n",
       "  </thead>\n",
       "  <tbody>\n",
       "    <tr>\n",
       "      <th>0</th>\n",
       "      <td>0.718847</td>\n",
       "      <td>0.666667</td>\n",
       "      <td>0.521616</td>\n",
       "      <td>0.521616</td>\n",
       "      <td>0.521616</td>\n",
       "      <td>0.0</td>\n",
       "      <td>0.521616</td>\n",
       "      <td>0.850000</td>\n",
       "      <td>0.718847</td>\n",
       "    </tr>\n",
       "    <tr>\n",
       "      <th>1</th>\n",
       "      <td>0.057855</td>\n",
       "      <td>0.444444</td>\n",
       "      <td>0.067387</td>\n",
       "      <td>0.067387</td>\n",
       "      <td>0.067387</td>\n",
       "      <td>0.0</td>\n",
       "      <td>0.067387</td>\n",
       "      <td>0.933333</td>\n",
       "      <td>0.057855</td>\n",
       "    </tr>\n",
       "    <tr>\n",
       "      <th>2</th>\n",
       "      <td>0.403316</td>\n",
       "      <td>0.666667</td>\n",
       "      <td>0.319628</td>\n",
       "      <td>0.319628</td>\n",
       "      <td>0.319628</td>\n",
       "      <td>0.0</td>\n",
       "      <td>0.319628</td>\n",
       "      <td>0.566667</td>\n",
       "      <td>0.403316</td>\n",
       "    </tr>\n",
       "    <tr>\n",
       "      <th>3</th>\n",
       "      <td>0.535603</td>\n",
       "      <td>0.777778</td>\n",
       "      <td>0.463549</td>\n",
       "      <td>0.463549</td>\n",
       "      <td>0.463549</td>\n",
       "      <td>0.0</td>\n",
       "      <td>0.463549</td>\n",
       "      <td>0.733333</td>\n",
       "      <td>0.535603</td>\n",
       "    </tr>\n",
       "    <tr>\n",
       "      <th>4</th>\n",
       "      <td>0.848131</td>\n",
       "      <td>0.666667</td>\n",
       "      <td>0.604377</td>\n",
       "      <td>0.604377</td>\n",
       "      <td>0.604377</td>\n",
       "      <td>0.0</td>\n",
       "      <td>0.604377</td>\n",
       "      <td>0.216667</td>\n",
       "      <td>0.848131</td>\n",
       "    </tr>\n",
       "    <tr>\n",
       "      <th>...</th>\n",
       "      <td>...</td>\n",
       "      <td>...</td>\n",
       "      <td>...</td>\n",
       "      <td>...</td>\n",
       "      <td>...</td>\n",
       "      <td>...</td>\n",
       "      <td>...</td>\n",
       "      <td>...</td>\n",
       "      <td>...</td>\n",
       "    </tr>\n",
       "    <tr>\n",
       "      <th>995</th>\n",
       "      <td>0.336782</td>\n",
       "      <td>0.000000</td>\n",
       "      <td>0.030707</td>\n",
       "      <td>0.030707</td>\n",
       "      <td>0.030707</td>\n",
       "      <td>0.0</td>\n",
       "      <td>0.030707</td>\n",
       "      <td>0.366667</td>\n",
       "      <td>0.336782</td>\n",
       "    </tr>\n",
       "    <tr>\n",
       "      <th>996</th>\n",
       "      <td>0.971295</td>\n",
       "      <td>1.000000</td>\n",
       "      <td>0.980465</td>\n",
       "      <td>0.980465</td>\n",
       "      <td>0.980465</td>\n",
       "      <td>0.0</td>\n",
       "      <td>0.980465</td>\n",
       "      <td>0.066667</td>\n",
       "      <td>0.971295</td>\n",
       "    </tr>\n",
       "    <tr>\n",
       "      <th>997</th>\n",
       "      <td>0.242101</td>\n",
       "      <td>0.000000</td>\n",
       "      <td>0.022049</td>\n",
       "      <td>0.022049</td>\n",
       "      <td>0.022049</td>\n",
       "      <td>0.0</td>\n",
       "      <td>0.022049</td>\n",
       "      <td>0.616667</td>\n",
       "      <td>0.242101</td>\n",
       "    </tr>\n",
       "    <tr>\n",
       "      <th>998</th>\n",
       "      <td>0.620160</td>\n",
       "      <td>0.000000</td>\n",
       "      <td>0.056622</td>\n",
       "      <td>0.056622</td>\n",
       "      <td>0.056622</td>\n",
       "      <td>0.0</td>\n",
       "      <td>0.056622</td>\n",
       "      <td>0.016667</td>\n",
       "      <td>0.620160</td>\n",
       "    </tr>\n",
       "    <tr>\n",
       "      <th>999</th>\n",
       "      <td>0.870717</td>\n",
       "      <td>0.666667</td>\n",
       "      <td>0.618835</td>\n",
       "      <td>0.618835</td>\n",
       "      <td>0.618835</td>\n",
       "      <td>0.0</td>\n",
       "      <td>0.618835</td>\n",
       "      <td>0.433333</td>\n",
       "      <td>0.870717</td>\n",
       "    </tr>\n",
       "  </tbody>\n",
       "</table>\n",
       "<p>1000 rows × 9 columns</p>\n",
       "</div>"
      ],
      "text/plain": [
       "     Unit price  Quantity    Tax 5%     Total      cogs  \\\n",
       "0      0.718847  0.666667  0.521616  0.521616  0.521616   \n",
       "1      0.057855  0.444444  0.067387  0.067387  0.067387   \n",
       "2      0.403316  0.666667  0.319628  0.319628  0.319628   \n",
       "3      0.535603  0.777778  0.463549  0.463549  0.463549   \n",
       "4      0.848131  0.666667  0.604377  0.604377  0.604377   \n",
       "..          ...       ...       ...       ...       ...   \n",
       "995    0.336782  0.000000  0.030707  0.030707  0.030707   \n",
       "996    0.971295  1.000000  0.980465  0.980465  0.980465   \n",
       "997    0.242101  0.000000  0.022049  0.022049  0.022049   \n",
       "998    0.620160  0.000000  0.056622  0.056622  0.056622   \n",
       "999    0.870717  0.666667  0.618835  0.618835  0.618835   \n",
       "\n",
       "     gross margin percentage  gross income    Rating  TotalbyQuantity  \n",
       "0                        0.0      0.521616  0.850000         0.718847  \n",
       "1                        0.0      0.067387  0.933333         0.057855  \n",
       "2                        0.0      0.319628  0.566667         0.403316  \n",
       "3                        0.0      0.463549  0.733333         0.535603  \n",
       "4                        0.0      0.604377  0.216667         0.848131  \n",
       "..                       ...           ...       ...              ...  \n",
       "995                      0.0      0.030707  0.366667         0.336782  \n",
       "996                      0.0      0.980465  0.066667         0.971295  \n",
       "997                      0.0      0.022049  0.616667         0.242101  \n",
       "998                      0.0      0.056622  0.016667         0.620160  \n",
       "999                      0.0      0.618835  0.433333         0.870717  \n",
       "\n",
       "[1000 rows x 9 columns]"
      ]
     },
     "execution_count": 25,
     "metadata": {},
     "output_type": "execute_result"
    }
   ],
   "source": [
    "# Standardizing the numerical variables\n",
    "num = data[['Unit price','Quantity','Tax 5%','Total','cogs','gross margin percentage','gross income','Rating','TotalbyQuantity']]\n",
    "from sklearn.preprocessing import MinMaxScaler\n",
    "scaler = MinMaxScaler()\n",
    "num = scaler.fit_transform(num)\n",
    "num = pd.DataFrame(num,columns=['Unit price','Quantity','Tax 5%','Total','cogs','gross margin percentage','gross income','Rating','TotalbyQuantity'])\n",
    "num"
   ]
  },
  {
   "cell_type": "code",
   "execution_count": 26,
   "metadata": {
    "execution": {
     "iopub.execute_input": "2020-12-11T13:52:34.353114Z",
     "iopub.status.busy": "2020-12-11T13:52:34.352116Z",
     "iopub.status.idle": "2020-12-11T13:52:34.377145Z",
     "shell.execute_reply": "2020-12-11T13:52:34.377677Z"
    },
    "papermill": {
     "duration": 0.074331,
     "end_time": "2020-12-11T13:52:34.377813",
     "exception": false,
     "start_time": "2020-12-11T13:52:34.303482",
     "status": "completed"
    },
    "tags": []
   },
   "outputs": [
    {
     "data": {
      "text/html": [
       "<div>\n",
       "<style scoped>\n",
       "    .dataframe tbody tr th:only-of-type {\n",
       "        vertical-align: middle;\n",
       "    }\n",
       "\n",
       "    .dataframe tbody tr th {\n",
       "        vertical-align: top;\n",
       "    }\n",
       "\n",
       "    .dataframe thead th {\n",
       "        text-align: right;\n",
       "    }\n",
       "</style>\n",
       "<table border=\"1\" class=\"dataframe\">\n",
       "  <thead>\n",
       "    <tr style=\"text-align: right;\">\n",
       "      <th></th>\n",
       "      <th>DateTime</th>\n",
       "      <th>Branch_B</th>\n",
       "      <th>Branch_C</th>\n",
       "      <th>Customer type_Normal</th>\n",
       "      <th>Gender_Male</th>\n",
       "      <th>Product line_Fashion accessories</th>\n",
       "      <th>Product line_Food and beverages</th>\n",
       "      <th>Product line_Health and beauty</th>\n",
       "      <th>Product line_Home and lifestyle</th>\n",
       "      <th>Product line_Sports and travel</th>\n",
       "      <th>...</th>\n",
       "      <th>Payment_Ewallet</th>\n",
       "      <th>Unit price</th>\n",
       "      <th>Quantity</th>\n",
       "      <th>Tax 5%</th>\n",
       "      <th>Total</th>\n",
       "      <th>cogs</th>\n",
       "      <th>gross margin percentage</th>\n",
       "      <th>gross income</th>\n",
       "      <th>Rating</th>\n",
       "      <th>TotalbyQuantity</th>\n",
       "    </tr>\n",
       "  </thead>\n",
       "  <tbody>\n",
       "    <tr>\n",
       "      <th>0</th>\n",
       "      <td>2019-01-05 13:08:00</td>\n",
       "      <td>0</td>\n",
       "      <td>0</td>\n",
       "      <td>0</td>\n",
       "      <td>0</td>\n",
       "      <td>0</td>\n",
       "      <td>0</td>\n",
       "      <td>1</td>\n",
       "      <td>0</td>\n",
       "      <td>0</td>\n",
       "      <td>...</td>\n",
       "      <td>1</td>\n",
       "      <td>0.718847</td>\n",
       "      <td>0.666667</td>\n",
       "      <td>0.521616</td>\n",
       "      <td>0.521616</td>\n",
       "      <td>0.521616</td>\n",
       "      <td>0.0</td>\n",
       "      <td>0.521616</td>\n",
       "      <td>0.850000</td>\n",
       "      <td>0.718847</td>\n",
       "    </tr>\n",
       "    <tr>\n",
       "      <th>1</th>\n",
       "      <td>2019-03-08 10:29:00</td>\n",
       "      <td>0</td>\n",
       "      <td>1</td>\n",
       "      <td>1</td>\n",
       "      <td>0</td>\n",
       "      <td>0</td>\n",
       "      <td>0</td>\n",
       "      <td>0</td>\n",
       "      <td>0</td>\n",
       "      <td>0</td>\n",
       "      <td>...</td>\n",
       "      <td>0</td>\n",
       "      <td>0.057855</td>\n",
       "      <td>0.444444</td>\n",
       "      <td>0.067387</td>\n",
       "      <td>0.067387</td>\n",
       "      <td>0.067387</td>\n",
       "      <td>0.0</td>\n",
       "      <td>0.067387</td>\n",
       "      <td>0.933333</td>\n",
       "      <td>0.057855</td>\n",
       "    </tr>\n",
       "    <tr>\n",
       "      <th>2</th>\n",
       "      <td>2019-03-03 13:23:00</td>\n",
       "      <td>0</td>\n",
       "      <td>0</td>\n",
       "      <td>1</td>\n",
       "      <td>1</td>\n",
       "      <td>0</td>\n",
       "      <td>0</td>\n",
       "      <td>0</td>\n",
       "      <td>1</td>\n",
       "      <td>0</td>\n",
       "      <td>...</td>\n",
       "      <td>0</td>\n",
       "      <td>0.403316</td>\n",
       "      <td>0.666667</td>\n",
       "      <td>0.319628</td>\n",
       "      <td>0.319628</td>\n",
       "      <td>0.319628</td>\n",
       "      <td>0.0</td>\n",
       "      <td>0.319628</td>\n",
       "      <td>0.566667</td>\n",
       "      <td>0.403316</td>\n",
       "    </tr>\n",
       "    <tr>\n",
       "      <th>3</th>\n",
       "      <td>2019-01-27 20:33:00</td>\n",
       "      <td>0</td>\n",
       "      <td>0</td>\n",
       "      <td>0</td>\n",
       "      <td>1</td>\n",
       "      <td>0</td>\n",
       "      <td>0</td>\n",
       "      <td>1</td>\n",
       "      <td>0</td>\n",
       "      <td>0</td>\n",
       "      <td>...</td>\n",
       "      <td>1</td>\n",
       "      <td>0.535603</td>\n",
       "      <td>0.777778</td>\n",
       "      <td>0.463549</td>\n",
       "      <td>0.463549</td>\n",
       "      <td>0.463549</td>\n",
       "      <td>0.0</td>\n",
       "      <td>0.463549</td>\n",
       "      <td>0.733333</td>\n",
       "      <td>0.535603</td>\n",
       "    </tr>\n",
       "    <tr>\n",
       "      <th>4</th>\n",
       "      <td>2019-02-08 10:37:00</td>\n",
       "      <td>0</td>\n",
       "      <td>0</td>\n",
       "      <td>1</td>\n",
       "      <td>1</td>\n",
       "      <td>0</td>\n",
       "      <td>0</td>\n",
       "      <td>0</td>\n",
       "      <td>0</td>\n",
       "      <td>1</td>\n",
       "      <td>...</td>\n",
       "      <td>1</td>\n",
       "      <td>0.848131</td>\n",
       "      <td>0.666667</td>\n",
       "      <td>0.604377</td>\n",
       "      <td>0.604377</td>\n",
       "      <td>0.604377</td>\n",
       "      <td>0.0</td>\n",
       "      <td>0.604377</td>\n",
       "      <td>0.216667</td>\n",
       "      <td>0.848131</td>\n",
       "    </tr>\n",
       "  </tbody>\n",
       "</table>\n",
       "<p>5 rows × 21 columns</p>\n",
       "</div>"
      ],
      "text/plain": [
       "             DateTime  Branch_B  Branch_C  Customer type_Normal  Gender_Male  \\\n",
       "0 2019-01-05 13:08:00         0         0                     0            0   \n",
       "1 2019-03-08 10:29:00         0         1                     1            0   \n",
       "2 2019-03-03 13:23:00         0         0                     1            1   \n",
       "3 2019-01-27 20:33:00         0         0                     0            1   \n",
       "4 2019-02-08 10:37:00         0         0                     1            1   \n",
       "\n",
       "   Product line_Fashion accessories  Product line_Food and beverages  \\\n",
       "0                                 0                                0   \n",
       "1                                 0                                0   \n",
       "2                                 0                                0   \n",
       "3                                 0                                0   \n",
       "4                                 0                                0   \n",
       "\n",
       "   Product line_Health and beauty  Product line_Home and lifestyle  \\\n",
       "0                               1                                0   \n",
       "1                               0                                0   \n",
       "2                               0                                1   \n",
       "3                               1                                0   \n",
       "4                               0                                0   \n",
       "\n",
       "   Product line_Sports and travel  ...  Payment_Ewallet  Unit price  Quantity  \\\n",
       "0                               0  ...                1    0.718847  0.666667   \n",
       "1                               0  ...                0    0.057855  0.444444   \n",
       "2                               0  ...                0    0.403316  0.666667   \n",
       "3                               0  ...                1    0.535603  0.777778   \n",
       "4                               1  ...                1    0.848131  0.666667   \n",
       "\n",
       "     Tax 5%     Total      cogs  gross margin percentage  gross income  \\\n",
       "0  0.521616  0.521616  0.521616                      0.0      0.521616   \n",
       "1  0.067387  0.067387  0.067387                      0.0      0.067387   \n",
       "2  0.319628  0.319628  0.319628                      0.0      0.319628   \n",
       "3  0.463549  0.463549  0.463549                      0.0      0.463549   \n",
       "4  0.604377  0.604377  0.604377                      0.0      0.604377   \n",
       "\n",
       "     Rating  TotalbyQuantity  \n",
       "0  0.850000         0.718847  \n",
       "1  0.933333         0.057855  \n",
       "2  0.566667         0.403316  \n",
       "3  0.733333         0.535603  \n",
       "4  0.216667         0.848131  \n",
       "\n",
       "[5 rows x 21 columns]"
      ]
     },
     "execution_count": 26,
     "metadata": {},
     "output_type": "execute_result"
    }
   ],
   "source": [
    "data=data.drop(['Unit price','Quantity','Tax 5%','Total','cogs','gross margin percentage','gross income','Rating','TotalbyQuantity'],axis=1)\n",
    "data = pd.concat([data,num],axis=1)\n",
    "data.head()"
   ]
  },
  {
   "cell_type": "code",
   "execution_count": 27,
   "metadata": {
    "execution": {
     "iopub.execute_input": "2020-12-11T13:52:34.473309Z",
     "iopub.status.busy": "2020-12-11T13:52:34.472348Z",
     "iopub.status.idle": "2020-12-11T13:52:34.479233Z",
     "shell.execute_reply": "2020-12-11T13:52:34.479760Z"
    },
    "papermill": {
     "duration": 0.056313,
     "end_time": "2020-12-11T13:52:34.479892",
     "exception": false,
     "start_time": "2020-12-11T13:52:34.423579",
     "status": "completed"
    },
    "tags": []
   },
   "outputs": [],
   "source": [
    "data = data.drop(['DateTime'],axis=1)\n",
    "#Splitting Datas\n",
    "X = data.drop(['Total'],axis=1)\n",
    "y= data['Total']"
   ]
  },
  {
   "cell_type": "markdown",
   "metadata": {
    "papermill": {
     "duration": 0.047654,
     "end_time": "2020-12-11T13:52:34.574038",
     "exception": false,
     "start_time": "2020-12-11T13:52:34.526384",
     "status": "completed"
    },
    "tags": []
   },
   "source": [
    "# Splitting the data into Train and Test"
   ]
  },
  {
   "cell_type": "code",
   "execution_count": 28,
   "metadata": {
    "execution": {
     "iopub.execute_input": "2020-12-11T13:52:34.669213Z",
     "iopub.status.busy": "2020-12-11T13:52:34.668335Z",
     "iopub.status.idle": "2020-12-11T13:52:34.729743Z",
     "shell.execute_reply": "2020-12-11T13:52:34.729118Z"
    },
    "papermill": {
     "duration": 0.109077,
     "end_time": "2020-12-11T13:52:34.729878",
     "exception": false,
     "start_time": "2020-12-11T13:52:34.620801",
     "status": "completed"
    },
    "tags": []
   },
   "outputs": [],
   "source": [
    "from sklearn.model_selection import train_test_split\n",
    "X_train,X_test,y_train,y_test = train_test_split(X,y,test_size=0.75,random_state=100)"
   ]
  },
  {
   "cell_type": "code",
   "execution_count": 29,
   "metadata": {
    "execution": {
     "iopub.execute_input": "2020-12-11T13:52:34.830698Z",
     "iopub.status.busy": "2020-12-11T13:52:34.830042Z",
     "iopub.status.idle": "2020-12-11T13:52:34.833007Z",
     "shell.execute_reply": "2020-12-11T13:52:34.833490Z"
    },
    "papermill": {
     "duration": 0.056073,
     "end_time": "2020-12-11T13:52:34.833631",
     "exception": false,
     "start_time": "2020-12-11T13:52:34.777558",
     "status": "completed"
    },
    "tags": []
   },
   "outputs": [
    {
     "data": {
      "text/plain": [
       "(250, 19)"
      ]
     },
     "execution_count": 29,
     "metadata": {},
     "output_type": "execute_result"
    }
   ],
   "source": [
    "X_train.shape\n"
   ]
  },
  {
   "cell_type": "code",
   "execution_count": 30,
   "metadata": {},
   "outputs": [
    {
     "data": {
      "text/plain": [
       "(250,)"
      ]
     },
     "execution_count": 30,
     "metadata": {},
     "output_type": "execute_result"
    }
   ],
   "source": [
    "y_train.shape"
   ]
  },
  {
   "cell_type": "code",
   "execution_count": 31,
   "metadata": {},
   "outputs": [
    {
     "data": {
      "text/plain": [
       "((750, 19), (750,))"
      ]
     },
     "execution_count": 31,
     "metadata": {},
     "output_type": "execute_result"
    }
   ],
   "source": [
    "X_test.shape,y_test.shape"
   ]
  },
  {
   "cell_type": "markdown",
   "metadata": {
    "papermill": {
     "duration": 0.046798,
     "end_time": "2020-12-11T13:52:34.927402",
     "exception": false,
     "start_time": "2020-12-11T13:52:34.880604",
     "status": "completed"
    },
    "tags": []
   },
   "source": [
    "# Modelling"
   ]
  },
  {
   "cell_type": "code",
   "execution_count": 32,
   "metadata": {
    "execution": {
     "iopub.execute_input": "2020-12-11T13:52:35.029132Z",
     "iopub.status.busy": "2020-12-11T13:52:35.028482Z",
     "iopub.status.idle": "2020-12-11T13:52:35.123828Z",
     "shell.execute_reply": "2020-12-11T13:52:35.123215Z"
    },
    "papermill": {
     "duration": 0.147804,
     "end_time": "2020-12-11T13:52:35.123951",
     "exception": false,
     "start_time": "2020-12-11T13:52:34.976147",
     "status": "completed"
    },
    "tags": []
   },
   "outputs": [],
   "source": [
    "import pandas as pd\n",
    "import numpy as np\n",
    "#Supporting functions\n",
    "from sklearn.preprocessing import PolynomialFeatures\n",
    "#Fit Models\n",
    "from sklearn.linear_model import LinearRegression\n",
    "#Scoring function\n",
    "from sklearn.metrics import accuracy_score"
   ]
  },
  {
   "cell_type": "markdown",
   "metadata": {
    "papermill": {
     "duration": 0.047206,
     "end_time": "2020-12-11T13:52:35.218714",
     "exception": false,
     "start_time": "2020-12-11T13:52:35.171508",
     "status": "completed"
    },
    "tags": []
   },
   "source": [
    "# Linear Regression\n",
    "Linear Regression is a simple supervised machine model which uses linear function on input features to obtain the output"
   ]
  },
  {
   "cell_type": "code",
   "execution_count": 33,
   "metadata": {
    "execution": {
     "iopub.execute_input": "2020-12-11T13:52:35.379309Z",
     "iopub.status.busy": "2020-12-11T13:52:35.321834Z",
     "iopub.status.idle": "2020-12-11T13:52:35.392348Z",
     "shell.execute_reply": "2020-12-11T13:52:35.391607Z"
    },
    "papermill": {
     "duration": 0.126912,
     "end_time": "2020-12-11T13:52:35.392518",
     "exception": false,
     "start_time": "2020-12-11T13:52:35.265606",
     "status": "completed"
    },
    "tags": []
   },
   "outputs": [
    {
     "data": {
      "text/plain": [
       "1.0"
      ]
     },
     "execution_count": 33,
     "metadata": {},
     "output_type": "execute_result"
    }
   ],
   "source": [
    "model1 = LinearRegression()\n",
    "model1.fit(X_train,y_train)\n",
    "y_pred = model1.predict(X_test)\n",
    "model1.score(X_test,y_test)\n"
   ]
  },
  {
   "cell_type": "markdown",
   "metadata": {},
   "source": [
    "# Decision Tree"
   ]
  },
  {
   "cell_type": "code",
   "execution_count": 34,
   "metadata": {},
   "outputs": [
    {
     "data": {
      "text/plain": [
       "0.9990777361609333"
      ]
     },
     "execution_count": 34,
     "metadata": {},
     "output_type": "execute_result"
    }
   ],
   "source": [
    "from sklearn.tree import DecisionTreeRegressor\n",
    "\n",
    "dtree = DecisionTreeRegressor(criterion='mse')\n",
    "dtree.fit(X_train, y_train)\n",
    "dtree.score(X_test,y_test)"
   ]
  },
  {
   "cell_type": "markdown",
   "metadata": {},
   "source": [
    " # Random Forest"
   ]
  },
  {
   "cell_type": "code",
   "execution_count": 35,
   "metadata": {},
   "outputs": [
    {
     "data": {
      "text/plain": [
       "0.9996855943361945"
      ]
     },
     "execution_count": 35,
     "metadata": {},
     "output_type": "execute_result"
    }
   ],
   "source": [
    "from sklearn.ensemble import RandomForestRegressor\n",
    "\n",
    "RForest = RandomForestRegressor()\n",
    "RForest.fit(X_train, y_train)\n",
    "RForest.score(X_test,y_test)"
   ]
  },
  {
   "cell_type": "code",
   "execution_count": null,
   "metadata": {},
   "outputs": [],
   "source": []
  },
  {
   "cell_type": "code",
   "execution_count": null,
   "metadata": {},
   "outputs": [],
   "source": []
  },
  {
   "cell_type": "code",
   "execution_count": null,
   "metadata": {},
   "outputs": [],
   "source": []
  },
  {
   "cell_type": "code",
   "execution_count": null,
   "metadata": {},
   "outputs": [],
   "source": []
  },
  {
   "cell_type": "code",
   "execution_count": null,
   "metadata": {},
   "outputs": [],
   "source": []
  },
  {
   "cell_type": "code",
   "execution_count": null,
   "metadata": {},
   "outputs": [],
   "source": []
  }
 ],
 "metadata": {
  "kernelspec": {
   "display_name": "Python 3",
   "language": "python",
   "name": "python3"
  },
  "language_info": {
   "codemirror_mode": {
    "name": "ipython",
    "version": 3
   },
   "file_extension": ".py",
   "mimetype": "text/x-python",
   "name": "python",
   "nbconvert_exporter": "python",
   "pygments_lexer": "ipython3",
   "version": "3.8.8"
  },
  "papermill": {
   "duration": 11.619018,
   "end_time": "2020-12-11T13:52:36.305354",
   "environment_variables": {},
   "exception": null,
   "input_path": "__notebook__.ipynb",
   "output_path": "__notebook__.ipynb",
   "parameters": {},
   "start_time": "2020-12-11T13:52:24.686336",
   "version": "2.1.0"
  }
 },
 "nbformat": 4,
 "nbformat_minor": 4
}
